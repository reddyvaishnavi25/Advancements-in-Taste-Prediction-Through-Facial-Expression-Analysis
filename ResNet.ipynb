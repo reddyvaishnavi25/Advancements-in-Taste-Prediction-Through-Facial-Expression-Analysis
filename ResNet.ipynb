{
 "cells": [
  {
   "cell_type": "code",
   "execution_count": 62,
   "id": "85bbfdd0",
   "metadata": {},
   "outputs": [],
   "source": [
    "import math\n",
    "import numpy as np\n",
    "import pandas as pd\n",
    "\n",
    "#import scikitplot\n",
    "import seaborn as sns\n",
    "from matplotlib import pyplot\n",
    "\n",
    "from sklearn.model_selection import train_test_split\n",
    "from sklearn.preprocessing import LabelEncoder\n",
    "from sklearn.metrics import classification_report\n",
    "import tensorflow as tf\n",
    "from tensorflow.keras import optimizers\n",
    "from tensorflow.keras.datasets import mnist\n",
    "from tensorflow.keras.models import Sequential\n",
    "from tensorflow.keras.layers import Flatten, Dense, Conv2D, MaxPooling2D\n",
    "from tensorflow.keras.layers import Dropout, BatchNormalization, LeakyReLU, Activation\n",
    "from tensorflow.keras.callbacks import Callback, EarlyStopping, ReduceLROnPlateau\n",
    "from tensorflow.keras.preprocessing.image import ImageDataGenerator\n",
    "\n",
    "#from tensorflow.keras.utils import np_utils\n",
    "from tensorflow.keras.utils import to_categorical\n"
   ]
  },
  {
   "cell_type": "code",
   "execution_count": 63,
   "id": "deb9e3ce",
   "metadata": {},
   "outputs": [
    {
     "name": "stdout",
     "output_type": "stream",
     "text": [
      "(35887, 3)\n"
     ]
    },
    {
     "data": {
      "text/html": [
       "<div>\n",
       "<style scoped>\n",
       "    .dataframe tbody tr th:only-of-type {\n",
       "        vertical-align: middle;\n",
       "    }\n",
       "\n",
       "    .dataframe tbody tr th {\n",
       "        vertical-align: top;\n",
       "    }\n",
       "\n",
       "    .dataframe thead th {\n",
       "        text-align: right;\n",
       "    }\n",
       "</style>\n",
       "<table border=\"1\" class=\"dataframe\">\n",
       "  <thead>\n",
       "    <tr style=\"text-align: right;\">\n",
       "      <th></th>\n",
       "      <th>emotion</th>\n",
       "      <th>pixels</th>\n",
       "      <th>Usage</th>\n",
       "    </tr>\n",
       "  </thead>\n",
       "  <tbody>\n",
       "    <tr>\n",
       "      <th>0</th>\n",
       "      <td>0</td>\n",
       "      <td>70 80 82 72 58 58 60 63 54 58 60 48 89 115 121...</td>\n",
       "      <td>Training</td>\n",
       "    </tr>\n",
       "    <tr>\n",
       "      <th>1</th>\n",
       "      <td>0</td>\n",
       "      <td>151 150 147 155 148 133 111 140 170 174 182 15...</td>\n",
       "      <td>Training</td>\n",
       "    </tr>\n",
       "    <tr>\n",
       "      <th>2</th>\n",
       "      <td>2</td>\n",
       "      <td>231 212 156 164 174 138 161 173 182 200 106 38...</td>\n",
       "      <td>Training</td>\n",
       "    </tr>\n",
       "    <tr>\n",
       "      <th>3</th>\n",
       "      <td>4</td>\n",
       "      <td>24 32 36 30 32 23 19 20 30 41 21 22 32 34 21 1...</td>\n",
       "      <td>Training</td>\n",
       "    </tr>\n",
       "    <tr>\n",
       "      <th>4</th>\n",
       "      <td>6</td>\n",
       "      <td>4 0 0 0 0 0 0 0 0 0 0 0 3 15 23 28 48 50 58 84...</td>\n",
       "      <td>Training</td>\n",
       "    </tr>\n",
       "  </tbody>\n",
       "</table>\n",
       "</div>"
      ],
      "text/plain": [
       "   emotion                                             pixels     Usage\n",
       "0        0  70 80 82 72 58 58 60 63 54 58 60 48 89 115 121...  Training\n",
       "1        0  151 150 147 155 148 133 111 140 170 174 182 15...  Training\n",
       "2        2  231 212 156 164 174 138 161 173 182 200 106 38...  Training\n",
       "3        4  24 32 36 30 32 23 19 20 30 41 21 22 32 34 21 1...  Training\n",
       "4        6  4 0 0 0 0 0 0 0 0 0 0 0 3 15 23 28 48 50 58 84...  Training"
      ]
     },
     "execution_count": 63,
     "metadata": {},
     "output_type": "execute_result"
    }
   ],
   "source": [
    "df = pd.read_csv(\"C:/Users/Nikitha/Documents/thesis/NITPML01/NITPML01/DATASET/fer2013.csv\")\n",
    "\n",
    "print(df.shape)\n",
    "df.head()"
   ]
  },
  {
   "cell_type": "code",
   "execution_count": 64,
   "id": "4fdb6cd8",
   "metadata": {},
   "outputs": [],
   "source": [
    "def string2array(x):\n",
    "  return np.array(x.split(' ')).reshape(48, 48, 1).astype('float32')"
   ]
  },
  {
   "cell_type": "code",
   "execution_count": 65,
   "id": "74e576a2",
   "metadata": {},
   "outputs": [],
   "source": [
    "df['pixels'] = df['pixels'].apply(lambda x: string2array(x))"
   ]
  },
  {
   "cell_type": "code",
   "execution_count": 66,
   "id": "2a8afffc",
   "metadata": {},
   "outputs": [
    {
     "data": {
      "text/html": [
       "<div>\n",
       "<style scoped>\n",
       "    .dataframe tbody tr th:only-of-type {\n",
       "        vertical-align: middle;\n",
       "    }\n",
       "\n",
       "    .dataframe tbody tr th {\n",
       "        vertical-align: top;\n",
       "    }\n",
       "\n",
       "    .dataframe thead th {\n",
       "        text-align: right;\n",
       "    }\n",
       "</style>\n",
       "<table border=\"1\" class=\"dataframe\">\n",
       "  <thead>\n",
       "    <tr style=\"text-align: right;\">\n",
       "      <th></th>\n",
       "      <th>emotion</th>\n",
       "      <th>pixels</th>\n",
       "      <th>Usage</th>\n",
       "    </tr>\n",
       "  </thead>\n",
       "  <tbody>\n",
       "    <tr>\n",
       "      <th>0</th>\n",
       "      <td>0</td>\n",
       "      <td>[[[70.0], [80.0], [82.0], [72.0], [58.0], [58....</td>\n",
       "      <td>Training</td>\n",
       "    </tr>\n",
       "    <tr>\n",
       "      <th>1</th>\n",
       "      <td>0</td>\n",
       "      <td>[[[151.0], [150.0], [147.0], [155.0], [148.0],...</td>\n",
       "      <td>Training</td>\n",
       "    </tr>\n",
       "    <tr>\n",
       "      <th>2</th>\n",
       "      <td>2</td>\n",
       "      <td>[[[231.0], [212.0], [156.0], [164.0], [174.0],...</td>\n",
       "      <td>Training</td>\n",
       "    </tr>\n",
       "    <tr>\n",
       "      <th>3</th>\n",
       "      <td>4</td>\n",
       "      <td>[[[24.0], [32.0], [36.0], [30.0], [32.0], [23....</td>\n",
       "      <td>Training</td>\n",
       "    </tr>\n",
       "    <tr>\n",
       "      <th>4</th>\n",
       "      <td>6</td>\n",
       "      <td>[[[4.0], [0.0], [0.0], [0.0], [0.0], [0.0], [0...</td>\n",
       "      <td>Training</td>\n",
       "    </tr>\n",
       "  </tbody>\n",
       "</table>\n",
       "</div>"
      ],
      "text/plain": [
       "   emotion                                             pixels     Usage\n",
       "0        0  [[[70.0], [80.0], [82.0], [72.0], [58.0], [58....  Training\n",
       "1        0  [[[151.0], [150.0], [147.0], [155.0], [148.0],...  Training\n",
       "2        2  [[[231.0], [212.0], [156.0], [164.0], [174.0],...  Training\n",
       "3        4  [[[24.0], [32.0], [36.0], [30.0], [32.0], [23....  Training\n",
       "4        6  [[[4.0], [0.0], [0.0], [0.0], [0.0], [0.0], [0...  Training"
      ]
     },
     "execution_count": 66,
     "metadata": {},
     "output_type": "execute_result"
    }
   ],
   "source": [
    "df.head()"
   ]
  },
  {
   "cell_type": "code",
   "execution_count": 67,
   "id": "39c7c8e4",
   "metadata": {},
   "outputs": [
    {
     "data": {
      "text/plain": [
       "emotion    0\n",
       "pixels     0\n",
       "Usage      0\n",
       "dtype: int64"
      ]
     },
     "execution_count": 67,
     "metadata": {},
     "output_type": "execute_result"
    }
   ],
   "source": [
    "df.isnull().sum()"
   ]
  },
  {
   "cell_type": "code",
   "execution_count": 68,
   "id": "210443f0",
   "metadata": {},
   "outputs": [],
   "source": [
    "label_to_text = {0:'hot', 1:'bitter', 2:'bland', 3:'sweet', 4: 'salty', 5: 'spicy', 6: 'savoury'}"
   ]
  },
  {
   "cell_type": "code",
   "execution_count": 69,
   "id": "6697705a",
   "metadata": {},
   "outputs": [
    {
     "data": {
      "image/png": "[encoded data removed]",
      "text/plain": [
       "<Figure size 1200x800 with 7 Axes>"
      ]
     },
     "metadata": {},
     "output_type": "display_data"
    }
   ],
   "source": [
    "num_rows = 2\n",
    "num_cols = 4\n",
    "\n",
    "fig, axes = pyplot.subplots(num_rows, num_cols, figsize=(12, 8))\n",
    "axes = axes.flatten()\n",
    "\n",
    "emotions = [0, 1, 2, 3, 4, 5, 6]\n",
    "\n",
    "for i in emotions:\n",
    "    data = df[df['emotion'] == i][:1]\n",
    "    img = data['pixels'].item()\n",
    "    img = img.reshape(48, 48) \n",
    "    ax = axes[i]\n",
    "    ax.set_title(label_to_text[i])\n",
    "    ax.imshow(img, cmap='gray')\n",
    "\n",
    "for i in range(len(emotions), num_rows * num_cols):\n",
    "    fig.delaxes(axes[i])\n",
    "\n",
    "pyplot.tight_layout()\n",
    "\n",
    "pyplot.show()"
   ]
  },
  {
   "cell_type": "code",
   "execution_count": 70,
   "id": "d2b82d0e",
   "metadata": {},
   "outputs": [
    {
     "data": {
      "text/plain": [
       "emotion\n",
       "3    8989\n",
       "6    6198\n",
       "4    6077\n",
       "2    5121\n",
       "0    4953\n",
       "5    4002\n",
       "1     547\n",
       "Name: count, dtype: int64"
      ]
     },
     "execution_count": 70,
     "metadata": {},
     "output_type": "execute_result"
    }
   ],
   "source": [
    "df.emotion.value_counts()"
   ]
  },
  {
   "cell_type": "code",
   "execution_count": 71,
   "id": "21af13f0",
   "metadata": {},
   "outputs": [
    {
     "name": "stderr",
     "output_type": "stream",
     "text": [
      "C:\\Users\\Nikitha\\anaconda3\\envs\\tensorflow\\lib\\site-packages\\seaborn\\_oldcore.py:1498: FutureWarning: is_categorical_dtype is deprecated and will be removed in a future version. Use isinstance(dtype, CategoricalDtype) instead\n",
      "  if pd.api.types.is_categorical_dtype(vector):\n",
      "C:\\Users\\Nikitha\\anaconda3\\envs\\tensorflow\\lib\\site-packages\\seaborn\\_oldcore.py:1498: FutureWarning: is_categorical_dtype is deprecated and will be removed in a future version. Use isinstance(dtype, CategoricalDtype) instead\n",
      "  if pd.api.types.is_categorical_dtype(vector):\n",
      "C:\\Users\\Nikitha\\anaconda3\\envs\\tensorflow\\lib\\site-packages\\seaborn\\_oldcore.py:1498: FutureWarning: is_categorical_dtype is deprecated and will be removed in a future version. Use isinstance(dtype, CategoricalDtype) instead\n",
      "  if pd.api.types.is_categorical_dtype(vector):\n"
     ]
    },
    {
     "data": {
      "text/plain": [
       "<Axes: xlabel='emotion', ylabel='count'>"
      ]
     },
     "execution_count": 71,
     "metadata": {},
     "output_type": "execute_result"
    },
    {
     "data": {
      "image/png": "[encoded data removed]",
      "text/plain": [
       "<Figure size 1000x300 with 1 Axes>"
      ]
     },
     "metadata": {},
     "output_type": "display_data"
    }
   ],
   "source": [
    "pyplot.figure(figsize = (10,3))\n",
    "sns.barplot(x = df.emotion.value_counts().index, y = df.emotion.value_counts())"
   ]
  },
  {
   "cell_type": "code",
   "execution_count": 72,
   "id": "1e2864aa",
   "metadata": {},
   "outputs": [],
   "source": [
    "# Separate data based on 'Usage' column\n",
    "train_data = df[df['Usage'] == 'Training']\n",
    "test_data = df[df['Usage'] == 'PublicTest']\n",
    "val_data = df[df['Usage'] == 'PrivateTest']\n",
    "\n",
    "#Training Data\n",
    "X_train = train_data['pixels']\n",
    "y_train = train_data['emotion']\n",
    "\n",
    "#Testing Data\n",
    "X_test = test_data['pixels']\n",
    "y_test = test_data['emotion']\n",
    "\n",
    "#Validation Data\n",
    "X_val = val_data['pixels']\n",
    "y_val = val_data['emotion'] "
   ]
  },
  {
   "cell_type": "code",
   "execution_count": 73,
   "id": "e02494d0",
   "metadata": {},
   "outputs": [],
   "source": [
    "X_train = train_data['pixels']\n",
    "y_train = to_categorical(train_data['emotion'])\n",
    "\n",
    "X_test = test_data['pixels']\n",
    "y_test = to_categorical(test_data['emotion'])\n",
    "\n",
    "X_val = val_data['pixels']\n",
    "y_val = to_categorical(val_data['emotion'])"
   ]
  },
  {
   "cell_type": "code",
   "execution_count": 74,
   "id": "d84877c5",
   "metadata": {},
   "outputs": [],
   "source": [
    "X_train = np.stack(X_train, axis = 0)\n",
    "X_train = X_train.reshape(28709 , 48, 48, 1)\n",
    "\n",
    "X_test = np.stack(X_test, axis = 0)\n",
    "X_test = X_test.reshape(3589 , 48, 48, 1)\n",
    "\n",
    "X_val = np.stack(X_val, axis = 0)\n",
    "X_val = X_val.reshape(3589 , 48, 48, 1)"
   ]
  },
  {
   "cell_type": "code",
   "execution_count": 75,
   "id": "86198afa",
   "metadata": {},
   "outputs": [
    {
     "name": "stdout",
     "output_type": "stream",
     "text": [
      "(28709, 48, 48, 1) (28709, 7)\n",
      "(3589, 48, 48, 1) (3589, 7)\n",
      "(3589, 48, 48, 1) (3589, 7)\n"
     ]
    }
   ],
   "source": [
    "print(X_train.shape, y_train.shape)\n",
    "print(X_test.shape, y_test.shape)\n",
    "print(X_val.shape, y_val.shape)"
   ]
  },
  {
   "cell_type": "code",
   "execution_count": 76,
   "id": "427acb88",
   "metadata": {},
   "outputs": [],
   "source": [
    "\n",
    "X_train = X_train/255\n",
    "X_val   = X_val /255\n",
    "X_Test  = X_test/255"
   ]
  },
  {
   "cell_type": "code",
   "execution_count": 77,
   "id": "c1bfbe88",
   "metadata": {},
   "outputs": [],
   "source": [
    "train_datagen = ImageDataGenerator(\n",
    "rotation_range = 15,\n",
    "    width_shift_range = 0.1,\n",
    "    height_shift_range = 0.1,\n",
    "    shear_range = 0.1,\n",
    "    zoom_range = 0.1,\n",
    "    horizontal_flip = True,\n",
    "    fill_mode = \"nearest\")"
   ]
  },
  {
   "cell_type": "code",
   "execution_count": 78,
   "id": "f4f7f0a6",
   "metadata": {},
   "outputs": [],
   "source": [
    "# BUILD DEEP RESIDUAL NEURAL NETWORK FOR FACIAL POINTS DETECTION MODEL\n",
    "def res_block(X, filter, stage):\n",
    "\n",
    "  # Convolutional_block\n",
    "  X_copy = X\n",
    "\n",
    "  f1 , f2, f3 = filter\n",
    "\n",
    "  # Main Path\n",
    "  X = Conv2D(f1, (1,1),strides = (1,1), name ='res_'+str(stage)+'_conv_a', kernel_initializer= glorot_uniform(seed = 0))(X)\n",
    "  X = MaxPool2D((2,2))(X)\n",
    "  X = BatchNormalization(axis =3, name = 'bn_'+str(stage)+'_conv_a')(X)\n",
    "  X = Activation('relu')(X)\n",
    "  # stride equal to 1 , that means they're going to be shifting and scanning only by one pixel\n",
    "  X = Conv2D(f2, kernel_size = (3,3), strides =(1,1), padding = 'same', name ='res_'+str(stage)+'_conv_b', kernel_initializer= glorot_uniform(seed = 0))(X)\n",
    "  X = BatchNormalization(axis =3, name = 'bn_'+str(stage)+'_conv_b')(X)\n",
    "  X = Activation('relu')(X)\n",
    "\n",
    "  X = Conv2D(f3, kernel_size = (1,1), strides =(1,1),name ='res_'+str(stage)+'_conv_c', kernel_initializer= glorot_uniform(seed = 0))(X)\n",
    "  X = BatchNormalization(axis =3, name = 'bn_'+str(stage)+'_conv_c')(X)\n",
    "\n",
    "\n",
    "  # Short path\n",
    "  X_copy = Conv2D(f3, kernel_size = (1,1), strides =(1,1),name ='res_'+str(stage)+'_conv_copy', kernel_initializer= glorot_uniform(seed = 0))(X_copy)\n",
    "  X_copy = MaxPool2D((2,2))(X_copy)\n",
    "  X_copy = BatchNormalization(axis =3, name = 'bn_'+str(stage)+'_conv_copy')(X_copy)\n",
    "\n",
    "  # ADD\n",
    "  X = Add()([X,X_copy])\n",
    "  X = Activation('relu')(X)\n",
    "\n",
    "  # Identity Block 1\n",
    "  X_copy = X\n",
    "\n",
    "\n",
    "  # Main Path\n",
    "  X = Conv2D(f1, (1,1),strides = (1,1), name ='res_'+str(stage)+'_identity_1_a', kernel_initializer= glorot_uniform(seed = 0))(X)\n",
    "  X = BatchNormalization(axis =3, name = 'bn_'+str(stage)+'_identity_1_a')(X)\n",
    "  X = Activation('relu')(X)\n",
    "\n",
    "  X = Conv2D(f2, kernel_size = (3,3), strides =(1,1), padding = 'same', name ='res_'+str(stage)+'_identity_1_b', kernel_initializer= glorot_uniform(seed = 0))(X)\n",
    "  X = BatchNormalization(axis =3, name = 'bn_'+str(stage)+'_identity_1_b')(X)\n",
    "  X = Activation('relu')(X)\n",
    "\n",
    "  X = Conv2D(f3, kernel_size = (1,1), strides =(1,1),name ='res_'+str(stage)+'_identity_1_c', kernel_initializer= glorot_uniform(seed = 0))(X)\n",
    "  X = BatchNormalization(axis =3, name = 'bn_'+str(stage)+'_identity_1_c')(X)\n",
    "\n",
    "  # ADD\n",
    "  X = Add()([X,X_copy])\n",
    "  X = Activation('relu')(X)\n",
    "\n",
    "  # Identity Block 2\n",
    "  X_copy = X\n",
    "\n",
    "\n",
    "  # Main Path\n",
    "  X = Conv2D(f1, (1,1),strides = (1,1), name ='res_'+str(stage)+'_identity_2_a', kernel_initializer= glorot_uniform(seed = 0))(X)\n",
    "  X = BatchNormalization(axis =3, name = 'bn_'+str(stage)+'_identity_2_a')(X)\n",
    "  X = Activation('relu')(X)\n",
    "\n",
    "  X = Conv2D(f2, kernel_size = (3,3), strides =(1,1), padding = 'same', name ='res_'+str(stage)+'_identity_2_b', kernel_initializer= glorot_uniform(seed = 0))(X)\n",
    "  X = BatchNormalization(axis =3, name = 'bn_'+str(stage)+'_identity_2_b')(X)\n",
    "  X = Activation('relu')(X)\n",
    "\n",
    "  X = Conv2D(f3, kernel_size = (1,1), strides =(1,1),name ='res_'+str(stage)+'_identity_2_c', kernel_initializer= glorot_uniform(seed = 0))(X)\n",
    "  X = BatchNormalization(axis =3, name = 'bn_'+str(stage)+'_identity_2_c')(X)\n",
    "\n",
    "  # ADD\n",
    "  X = Add()([X,X_copy])\n",
    "  X = Activation('relu')(X)\n",
    "\n",
    "  return X"
   ]
  },
  {
   "cell_type": "code",
   "execution_count": 79,
   "id": "fe64725b",
   "metadata": {},
   "outputs": [],
   "source": [
    "\n",
    "import pandas as pd\n",
    "import numpy as np\n",
    "import os\n",
    "import PIL\n",
    "import seaborn as sns\n",
    "import pickle\n",
    "from PIL import *\n",
    "import tensorflow as tf\n",
    "from tensorflow import keras\n",
    "from tensorflow.keras.applications import DenseNet121\n",
    "from tensorflow.keras.models import Model, load_model\n",
    "from tensorflow.keras.initializers import glorot_uniform\n",
    "from tensorflow.keras.utils import plot_model\n",
    "from tensorflow.keras.callbacks import ReduceLROnPlateau, EarlyStopping, ModelCheckpoint, LearningRateScheduler\n",
    "from IPython.display import display\n",
    "from tensorflow.keras.preprocessing.image import ImageDataGenerator\n",
    "from tensorflow.keras import layers, optimizers\n",
    "from tensorflow.keras.applications.resnet50 import ResNet50\n",
    "from tensorflow.keras.layers import *\n",
    "from tensorflow.keras import backend as K\n",
    "import matplotlib.pyplot as plt\n",
    "from sklearn.model_selection import train_test_split\n",
    "from keras.utils import to_categorical\n",
    "from sklearn.metrics import classification_report\n",
    "from sklearn.metrics import confusion_matrix\n"
   ]
  },
  {
   "cell_type": "code",
   "execution_count": 80,
   "id": "6ad09cf8",
   "metadata": {},
   "outputs": [
    {
     "name": "stdout",
     "output_type": "stream",
     "text": [
      "Model: \"Resnet18\"\n",
      "__________________________________________________________________________________________________\n",
      " Layer (type)                   Output Shape         Param #     Connected to                     \n",
      "==================================================================================================\n",
      " input_8 (InputLayer)           [(None, 48, 48, 1)]  0           []                               \n",
      "                                                                                                  \n",
      " zero_padding2d_6 (ZeroPadding2  (None, 54, 54, 1)   0           ['input_8[0][0]']                \n",
      " D)                                                                                               \n",
      "                                                                                                  \n",
      " conv1 (Conv2D)                 (None, 24, 24, 64)   3200        ['zero_padding2d_6[0][0]']       \n",
      "                                                                                                  \n",
      " bn_conv1 (BatchNormalization)  (None, 24, 24, 64)   256         ['conv1[0][0]']                  \n",
      "                                                                                                  \n",
      " activation_23 (Activation)     (None, 24, 24, 64)   0           ['bn_conv1[0][0]']               \n",
      "                                                                                                  \n",
      " max_pooling2d_9 (MaxPooling2D)  (None, 11, 11, 64)  0           ['activation_23[0][0]']          \n",
      "                                                                                                  \n",
      " res_2_conv_a (Conv2D)          (None, 11, 11, 64)   4160        ['max_pooling2d_9[0][0]']        \n",
      "                                                                                                  \n",
      " max_pooling2d_10 (MaxPooling2D  (None, 5, 5, 64)    0           ['res_2_conv_a[0][0]']           \n",
      " )                                                                                                \n",
      "                                                                                                  \n",
      " bn_2_conv_a (BatchNormalizatio  (None, 5, 5, 64)    256         ['max_pooling2d_10[0][0]']       \n",
      " n)                                                                                               \n",
      "                                                                                                  \n",
      " activation_24 (Activation)     (None, 5, 5, 64)     0           ['bn_2_conv_a[0][0]']            \n",
      "                                                                                                  \n",
      " res_2_conv_b (Conv2D)          (None, 5, 5, 64)     36928       ['activation_24[0][0]']          \n",
      "                                                                                                  \n",
      " bn_2_conv_b (BatchNormalizatio  (None, 5, 5, 64)    256         ['res_2_conv_b[0][0]']           \n",
      " n)                                                                                               \n",
      "                                                                                                  \n",
      " activation_25 (Activation)     (None, 5, 5, 64)     0           ['bn_2_conv_b[0][0]']            \n",
      "                                                                                                  \n",
      " res_2_conv_copy (Conv2D)       (None, 11, 11, 256)  16640       ['max_pooling2d_9[0][0]']        \n",
      "                                                                                                  \n",
      " res_2_conv_c (Conv2D)          (None, 5, 5, 256)    16640       ['activation_25[0][0]']          \n",
      "                                                                                                  \n",
      " max_pooling2d_11 (MaxPooling2D  (None, 5, 5, 256)   0           ['res_2_conv_copy[0][0]']        \n",
      " )                                                                                                \n",
      "                                                                                                  \n",
      " bn_2_conv_c (BatchNormalizatio  (None, 5, 5, 256)   1024        ['res_2_conv_c[0][0]']           \n",
      " n)                                                                                               \n",
      "                                                                                                  \n",
      " bn_2_conv_copy (BatchNormaliza  (None, 5, 5, 256)   1024        ['max_pooling2d_11[0][0]']       \n",
      " tion)                                                                                            \n",
      "                                                                                                  \n",
      " add_6 (Add)                    (None, 5, 5, 256)    0           ['bn_2_conv_c[0][0]',            \n",
      "                                                                  'bn_2_conv_copy[0][0]']         \n",
      "                                                                                                  \n",
      " activation_26 (Activation)     (None, 5, 5, 256)    0           ['add_6[0][0]']                  \n",
      "                                                                                                  \n",
      " res_2_identity_1_a (Conv2D)    (None, 5, 5, 64)     16448       ['activation_26[0][0]']          \n",
      "                                                                                                  \n",
      " bn_2_identity_1_a (BatchNormal  (None, 5, 5, 64)    256         ['res_2_identity_1_a[0][0]']     \n",
      " ization)                                                                                         \n",
      "                                                                                                  \n",
      " activation_27 (Activation)     (None, 5, 5, 64)     0           ['bn_2_identity_1_a[0][0]']      \n",
      "                                                                                                  \n",
      " res_2_identity_1_b (Conv2D)    (None, 5, 5, 64)     36928       ['activation_27[0][0]']          \n",
      "                                                                                                  \n",
      " bn_2_identity_1_b (BatchNormal  (None, 5, 5, 64)    256         ['res_2_identity_1_b[0][0]']     \n",
      " ization)                                                                                         \n",
      "                                                                                                  \n",
      " activation_28 (Activation)     (None, 5, 5, 64)     0           ['bn_2_identity_1_b[0][0]']      \n",
      "                                                                                                  \n",
      " res_2_identity_1_c (Conv2D)    (None, 5, 5, 256)    16640       ['activation_28[0][0]']          \n",
      "                                                                                                  \n",
      " bn_2_identity_1_c (BatchNormal  (None, 5, 5, 256)   1024        ['res_2_identity_1_c[0][0]']     \n",
      " ization)                                                                                         \n",
      "                                                                                                  \n",
      " add_7 (Add)                    (None, 5, 5, 256)    0           ['bn_2_identity_1_c[0][0]',      \n",
      "                                                                  'activation_26[0][0]']          \n",
      "                                                                                                  \n",
      " activation_29 (Activation)     (None, 5, 5, 256)    0           ['add_7[0][0]']                  \n",
      "                                                                                                  \n",
      " res_2_identity_2_a (Conv2D)    (None, 5, 5, 64)     16448       ['activation_29[0][0]']          \n",
      "                                                                                                  \n",
      " bn_2_identity_2_a (BatchNormal  (None, 5, 5, 64)    256         ['res_2_identity_2_a[0][0]']     \n",
      " ization)                                                                                         \n",
      "                                                                                                  \n",
      " activation_30 (Activation)     (None, 5, 5, 64)     0           ['bn_2_identity_2_a[0][0]']      \n",
      "                                                                                                  \n",
      " res_2_identity_2_b (Conv2D)    (None, 5, 5, 64)     36928       ['activation_30[0][0]']          \n"
     ]
    },
    {
     "name": "stdout",
     "output_type": "stream",
     "text": [
      "                                                                                                  \n",
      " bn_2_identity_2_b (BatchNormal  (None, 5, 5, 64)    256         ['res_2_identity_2_b[0][0]']     \n",
      " ization)                                                                                         \n",
      "                                                                                                  \n",
      " activation_31 (Activation)     (None, 5, 5, 64)     0           ['bn_2_identity_2_b[0][0]']      \n",
      "                                                                                                  \n",
      " res_2_identity_2_c (Conv2D)    (None, 5, 5, 256)    16640       ['activation_31[0][0]']          \n",
      "                                                                                                  \n",
      " bn_2_identity_2_c (BatchNormal  (None, 5, 5, 256)   1024        ['res_2_identity_2_c[0][0]']     \n",
      " ization)                                                                                         \n",
      "                                                                                                  \n",
      " add_8 (Add)                    (None, 5, 5, 256)    0           ['bn_2_identity_2_c[0][0]',      \n",
      "                                                                  'activation_29[0][0]']          \n",
      "                                                                                                  \n",
      " activation_32 (Activation)     (None, 5, 5, 256)    0           ['add_8[0][0]']                  \n",
      "                                                                                                  \n",
      " res_3_conv_a (Conv2D)          (None, 5, 5, 128)    32896       ['activation_32[0][0]']          \n",
      "                                                                                                  \n",
      " max_pooling2d_12 (MaxPooling2D  (None, 2, 2, 128)   0           ['res_3_conv_a[0][0]']           \n",
      " )                                                                                                \n",
      "                                                                                                  \n",
      " bn_3_conv_a (BatchNormalizatio  (None, 2, 2, 128)   512         ['max_pooling2d_12[0][0]']       \n",
      " n)                                                                                               \n",
      "                                                                                                  \n",
      " activation_33 (Activation)     (None, 2, 2, 128)    0           ['bn_3_conv_a[0][0]']            \n",
      "                                                                                                  \n",
      " res_3_conv_b (Conv2D)          (None, 2, 2, 128)    147584      ['activation_33[0][0]']          \n",
      "                                                                                                  \n",
      " bn_3_conv_b (BatchNormalizatio  (None, 2, 2, 128)   512         ['res_3_conv_b[0][0]']           \n",
      " n)                                                                                               \n",
      "                                                                                                  \n",
      " activation_34 (Activation)     (None, 2, 2, 128)    0           ['bn_3_conv_b[0][0]']            \n",
      "                                                                                                  \n",
      " res_3_conv_copy (Conv2D)       (None, 5, 5, 512)    131584      ['activation_32[0][0]']          \n",
      "                                                                                                  \n",
      " res_3_conv_c (Conv2D)          (None, 2, 2, 512)    66048       ['activation_34[0][0]']          \n",
      "                                                                                                  \n",
      " max_pooling2d_13 (MaxPooling2D  (None, 2, 2, 512)   0           ['res_3_conv_copy[0][0]']        \n",
      " )                                                                                                \n",
      "                                                                                                  \n",
      " bn_3_conv_c (BatchNormalizatio  (None, 2, 2, 512)   2048        ['res_3_conv_c[0][0]']           \n",
      " n)                                                                                               \n",
      "                                                                                                  \n",
      " bn_3_conv_copy (BatchNormaliza  (None, 2, 2, 512)   2048        ['max_pooling2d_13[0][0]']       \n",
      " tion)                                                                                            \n",
      "                                                                                                  \n",
      " add_9 (Add)                    (None, 2, 2, 512)    0           ['bn_3_conv_c[0][0]',            \n",
      "                                                                  'bn_3_conv_copy[0][0]']         \n",
      "                                                                                                  \n",
      " activation_35 (Activation)     (None, 2, 2, 512)    0           ['add_9[0][0]']                  \n",
      "                                                                                                  \n",
      " res_3_identity_1_a (Conv2D)    (None, 2, 2, 128)    65664       ['activation_35[0][0]']          \n",
      "                                                                                                  \n",
      " bn_3_identity_1_a (BatchNormal  (None, 2, 2, 128)   512         ['res_3_identity_1_a[0][0]']     \n",
      " ization)                                                                                         \n",
      "                                                                                                  \n",
      " activation_36 (Activation)     (None, 2, 2, 128)    0           ['bn_3_identity_1_a[0][0]']      \n",
      "                                                                                                  \n",
      " res_3_identity_1_b (Conv2D)    (None, 2, 2, 128)    147584      ['activation_36[0][0]']          \n",
      "                                                                                                  \n",
      " bn_3_identity_1_b (BatchNormal  (None, 2, 2, 128)   512         ['res_3_identity_1_b[0][0]']     \n",
      " ization)                                                                                         \n",
      "                                                                                                  \n",
      " activation_37 (Activation)     (None, 2, 2, 128)    0           ['bn_3_identity_1_b[0][0]']      \n",
      "                                                                                                  \n",
      " res_3_identity_1_c (Conv2D)    (None, 2, 2, 512)    66048       ['activation_37[0][0]']          \n",
      "                                                                                                  \n",
      " bn_3_identity_1_c (BatchNormal  (None, 2, 2, 512)   2048        ['res_3_identity_1_c[0][0]']     \n",
      " ization)                                                                                         \n",
      "                                                                                                  \n",
      " add_10 (Add)                   (None, 2, 2, 512)    0           ['bn_3_identity_1_c[0][0]',      \n",
      "                                                                  'activation_35[0][0]']          \n",
      "                                                                                                  \n",
      " activation_38 (Activation)     (None, 2, 2, 512)    0           ['add_10[0][0]']                 \n",
      "                                                                                                  \n",
      " res_3_identity_2_a (Conv2D)    (None, 2, 2, 128)    65664       ['activation_38[0][0]']          \n",
      "                                                                                                  \n",
      " bn_3_identity_2_a (BatchNormal  (None, 2, 2, 128)   512         ['res_3_identity_2_a[0][0]']     \n",
      " ization)                                                                                         \n",
      "                                                                                                  \n",
      " activation_39 (Activation)     (None, 2, 2, 128)    0           ['bn_3_identity_2_a[0][0]']      \n",
      "                                                                                                  \n",
      " res_3_identity_2_b (Conv2D)    (None, 2, 2, 128)    147584      ['activation_39[0][0]']          \n"
     ]
    },
    {
     "name": "stdout",
     "output_type": "stream",
     "text": [
      "                                                                                                  \n",
      " bn_3_identity_2_b (BatchNormal  (None, 2, 2, 128)   512         ['res_3_identity_2_b[0][0]']     \n",
      " ization)                                                                                         \n",
      "                                                                                                  \n",
      " activation_40 (Activation)     (None, 2, 2, 128)    0           ['bn_3_identity_2_b[0][0]']      \n",
      "                                                                                                  \n",
      " res_3_identity_2_c (Conv2D)    (None, 2, 2, 512)    66048       ['activation_40[0][0]']          \n",
      "                                                                                                  \n",
      " bn_3_identity_2_c (BatchNormal  (None, 2, 2, 512)   2048        ['res_3_identity_2_c[0][0]']     \n",
      " ization)                                                                                         \n",
      "                                                                                                  \n",
      " add_11 (Add)                   (None, 2, 2, 512)    0           ['bn_3_identity_2_c[0][0]',      \n",
      "                                                                  'activation_38[0][0]']          \n",
      "                                                                                                  \n",
      " activation_41 (Activation)     (None, 2, 2, 512)    0           ['add_11[0][0]']                 \n",
      "                                                                                                  \n",
      " Averagea_Pooling (AveragePooli  (None, 1, 1, 512)   0           ['activation_41[0][0]']          \n",
      " ng2D)                                                                                            \n",
      "                                                                                                  \n",
      " flatten_1 (Flatten)            (None, 512)          0           ['Averagea_Pooling[0][0]']       \n",
      "                                                                                                  \n",
      " Dense_final (Dense)            (None, 7)            3591        ['flatten_1[0][0]']              \n",
      "                                                                                                  \n",
      "==================================================================================================\n",
      "Total params: 1,175,047\n",
      "Trainable params: 1,166,471\n",
      "Non-trainable params: 8,576\n",
      "__________________________________________________________________________________________________\n"
     ]
    }
   ],
   "source": [
    "input_shape = (48, 48, 1)\n",
    "\n",
    "# Input tensor shape\n",
    "X_input = Input(input_shape)\n",
    "\n",
    "# Zero-padding\n",
    "X = ZeroPadding2D((3, 3))(X_input)\n",
    "\n",
    "# 1 - stage\n",
    "X = Conv2D(64, (7, 7), strides= (2, 2), name = 'conv1', kernel_initializer= glorot_uniform(seed = 0))(X)\n",
    "X = BatchNormalization(axis =3, name = 'bn_conv1')(X)\n",
    "X = Activation('relu')(X)\n",
    "X = MaxPooling2D((3, 3), strides= (2, 2))(X)\n",
    "\n",
    "# 2 - stage\n",
    "X = res_block(X, filter= [64, 64, 256], stage= 2)\n",
    "\n",
    "# 3 - stage\n",
    "X = res_block(X, filter= [128, 128, 512], stage= 3)\n",
    "\n",
    "# Average Pooling\n",
    "X = AveragePooling2D((2, 2), name = 'Averagea_Pooling')(X)\n",
    "\n",
    "# Final layer\n",
    "X = Flatten()(X)\n",
    "X = Dense(7, activation = 'softmax', name = 'Dense_final', kernel_initializer= glorot_uniform(seed=0))(X)\n",
    "\n",
    "model_emotion = Model( inputs= X_input, outputs = X, name = 'Resnet18')\n",
    "\n",
    "model_emotion.summary()"
   ]
  },
  {
   "cell_type": "code",
   "execution_count": 81,
   "id": "15eb26c6",
   "metadata": {},
   "outputs": [],
   "source": [
    "# train the network\n",
    "model_emotion.compile(optimizer = \"Adam\", loss = \"categorical_crossentropy\", metrics = [\"accuracy\"])"
   ]
  },
  {
   "cell_type": "code",
   "execution_count": 82,
   "id": "d12d14c8",
   "metadata": {},
   "outputs": [],
   "source": [
    "earlystopping = EarlyStopping(monitor = 'val_loss', mode = 'min', verbose = 1, patience = 20)\n",
    "\n",
    "# save the best model with lower validation loss\n",
    "checkpointer = ModelCheckpoint(filepath = \"Emotion_weights.hdf5\", verbose = 1, save_best_only=True)"
   ]
  },
  {
   "cell_type": "code",
   "execution_count": 83,
   "id": "871f7afc",
   "metadata": {},
   "outputs": [
    {
     "name": "stdout",
     "output_type": "stream",
     "text": [
      "Epoch 1/100\n",
      "448/448 [==============================] - ETA: 0s - loss: 1.8379 - accuracy: 0.2931\n",
      "Epoch 1: val_loss improved from inf to 1.76093, saving model to Emotion_weights.hdf5\n",
      "448/448 [==============================] - 89s 183ms/step - loss: 1.8379 - accuracy: 0.2931 - val_loss: 1.7609 - val_accuracy: 0.3137\n",
      "Epoch 2/100\n",
      "448/448 [==============================] - ETA: 0s - loss: 1.6164 - accuracy: 0.3843\n",
      "Epoch 2: val_loss did not improve from 1.76093\n",
      "448/448 [==============================] - 138s 308ms/step - loss: 1.6164 - accuracy: 0.3843 - val_loss: 1.8427 - val_accuracy: 0.2530\n",
      "Epoch 3/100\n",
      "448/448 [==============================] - ETA: 0s - loss: 1.4939 - accuracy: 0.4282\n",
      "Epoch 3: val_loss improved from 1.76093 to 1.73918, saving model to Emotion_weights.hdf5\n",
      "448/448 [==============================] - 140s 312ms/step - loss: 1.4939 - accuracy: 0.4282 - val_loss: 1.7392 - val_accuracy: 0.3739\n",
      "Epoch 4/100\n",
      "448/448 [==============================] - ETA: 0s - loss: 1.4050 - accuracy: 0.4626\n",
      "Epoch 4: val_loss improved from 1.73918 to 1.59668, saving model to Emotion_weights.hdf5\n",
      "448/448 [==============================] - 83s 184ms/step - loss: 1.4050 - accuracy: 0.4626 - val_loss: 1.5967 - val_accuracy: 0.4171\n",
      "Epoch 5/100\n",
      "448/448 [==============================] - ETA: 0s - loss: 1.3422 - accuracy: 0.4880\n",
      "Epoch 5: val_loss did not improve from 1.59668\n",
      "448/448 [==============================] - 76s 171ms/step - loss: 1.3422 - accuracy: 0.4880 - val_loss: 1.8125 - val_accuracy: 0.2697\n",
      "Epoch 6/100\n",
      "448/448 [==============================] - ETA: 0s - loss: 1.3077 - accuracy: 0.5001\n",
      "Epoch 6: val_loss improved from 1.59668 to 1.36079, saving model to Emotion_weights.hdf5\n",
      "448/448 [==============================] - 112s 249ms/step - loss: 1.3077 - accuracy: 0.5001 - val_loss: 1.3608 - val_accuracy: 0.4918\n",
      "Epoch 7/100\n",
      "448/448 [==============================] - ETA: 0s - loss: 1.2808 - accuracy: 0.5122\n",
      "Epoch 7: val_loss did not improve from 1.36079\n",
      "448/448 [==============================] - 91s 203ms/step - loss: 1.2808 - accuracy: 0.5122 - val_loss: 1.3769 - val_accuracy: 0.4737\n",
      "Epoch 8/100\n",
      "448/448 [==============================] - ETA: 0s - loss: 1.2450 - accuracy: 0.5316\n",
      "Epoch 8: val_loss did not improve from 1.36079\n",
      "448/448 [==============================] - 111s 248ms/step - loss: 1.2450 - accuracy: 0.5316 - val_loss: 1.5493 - val_accuracy: 0.3951\n",
      "Epoch 9/100\n",
      "448/448 [==============================] - ETA: 0s - loss: 1.2278 - accuracy: 0.5352\n",
      "Epoch 9: val_loss improved from 1.36079 to 1.25558, saving model to Emotion_weights.hdf5\n",
      "448/448 [==============================] - 112s 251ms/step - loss: 1.2278 - accuracy: 0.5352 - val_loss: 1.2556 - val_accuracy: 0.5261\n",
      "Epoch 10/100\n",
      "448/448 [==============================] - ETA: 0s - loss: 1.2051 - accuracy: 0.5453\n",
      "Epoch 10: val_loss did not improve from 1.25558\n",
      "448/448 [==============================] - 112s 251ms/step - loss: 1.2051 - accuracy: 0.5453 - val_loss: 1.6512 - val_accuracy: 0.4193\n",
      "Epoch 11/100\n",
      "448/448 [==============================] - ETA: 0s - loss: 1.1899 - accuracy: 0.5486\n",
      "Epoch 11: val_loss did not improve from 1.25558\n",
      "448/448 [==============================] - 114s 253ms/step - loss: 1.1899 - accuracy: 0.5486 - val_loss: 1.3380 - val_accuracy: 0.4948\n",
      "Epoch 12/100\n",
      "448/448 [==============================] - ETA: 0s - loss: 1.1802 - accuracy: 0.5540\n",
      "Epoch 12: val_loss did not improve from 1.25558\n",
      "448/448 [==============================] - 64s 143ms/step - loss: 1.1802 - accuracy: 0.5540 - val_loss: 1.4082 - val_accuracy: 0.4439\n",
      "Epoch 13/100\n",
      "448/448 [==============================] - ETA: 0s - loss: 1.1609 - accuracy: 0.5610\n",
      "Epoch 13: val_loss did not improve from 1.25558\n",
      "448/448 [==============================] - 60s 135ms/step - loss: 1.1609 - accuracy: 0.5610 - val_loss: 1.2917 - val_accuracy: 0.5085\n",
      "Epoch 14/100\n",
      "448/448 [==============================] - ETA: 0s - loss: 1.1483 - accuracy: 0.5670\n",
      "Epoch 14: val_loss did not improve from 1.25558\n",
      "448/448 [==============================] - 59s 131ms/step - loss: 1.1483 - accuracy: 0.5670 - val_loss: 1.3268 - val_accuracy: 0.4859\n",
      "Epoch 15/100\n",
      "448/448 [==============================] - ETA: 0s - loss: 1.1281 - accuracy: 0.5752\n",
      "Epoch 15: val_loss did not improve from 1.25558\n",
      "448/448 [==============================] - 60s 133ms/step - loss: 1.1281 - accuracy: 0.5752 - val_loss: 1.3610 - val_accuracy: 0.4698\n",
      "Epoch 16/100\n",
      "448/448 [==============================] - ETA: 0s - loss: 1.1100 - accuracy: 0.5815\n",
      "Epoch 17: val_loss did not improve from 1.16595\n",
      "448/448 [==============================] - 117s 261ms/step - loss: 1.1100 - accuracy: 0.5815 - val_loss: 1.2402 - val_accuracy: 0.5286\n",
      "Epoch 18/100\n",
      "448/448 [==============================] - ETA: 0s - loss: 1.0978 - accuracy: 0.5867\n",
      "Epoch 18: val_loss did not improve from 1.16595\n",
      "448/448 [==============================] - 74s 164ms/step - loss: 1.0978 - accuracy: 0.5867 - val_loss: 1.5031 - val_accuracy: 0.4787\n",
      "Epoch 19/100\n",
      "448/448 [==============================] - ETA: 0s - loss: 1.0776 - accuracy: 0.5895\n",
      "Epoch 20: val_loss did not improve from 1.16595\n",
      "448/448 [==============================] - 115s 256ms/step - loss: 1.0776 - accuracy: 0.5895 - val_loss: 1.2271 - val_accuracy: 0.5366\n",
      "Epoch 21/100\n",
      "448/448 [==============================] - ETA: 0s - loss: 1.0702 - accuracy: 0.5958\n",
      "Epoch 21: val_loss did not improve from 1.16595\n",
      "448/448 [==============================] - 63s 142ms/step - loss: 1.0702 - accuracy: 0.5958 - val_loss: 1.3676 - val_accuracy: 0.4611\n",
      "Epoch 22/100\n",
      "448/448 [==============================] - ETA: 0s - loss: 1.0502 - accuracy: 0.6016\n",
      "Epoch 22: val_loss did not improve from 1.16595\n",
      "448/448 [==============================] - 73s 163ms/step - loss: 1.0502 - accuracy: 0.6016 - val_loss: 1.2217 - val_accuracy: 0.5394\n",
      "Epoch 23/100\n",
      "448/448 [==============================] - ETA: 0s - loss: 1.0415 - accuracy: 0.6077\n",
      "Epoch 23: val_loss did not improve from 1.16595\n",
      "448/448 [==============================] - 84s 188ms/step - loss: 1.0415 - accuracy: 0.6077 - val_loss: 1.2874 - val_accuracy: 0.5127\n",
      "Epoch 24/100\n",
      "448/448 [==============================] - ETA: 0s - loss: 1.0362 - accuracy: 0.6102\n",
      "Epoch 25: val_loss did not improve from 1.16595\n",
      "448/448 [==============================] - 80s 179ms/step - loss: 1.0362 - accuracy: 0.6102 - val_loss: 1.2763 - val_accuracy: 0.5132\n",
      "Epoch 26/100\n",
      "448/448 [==============================] - ETA: 0s - loss: 1.0179 - accuracy: 0.6157\n",
      "Epoch 26: val_loss improved from 1.16595 to 1.12018, saving model to Emotion_weights.hdf5\n",
      "448/448 [==============================] - 74s 165ms/step - loss: 1.0179 - accuracy: 0.6157 - val_loss: 1.1202 - val_accuracy: 0.5731\n",
      "Epoch 27/100\n",
      "448/448 [==============================] - ETA: 0s - loss: 1.0136 - accuracy: 0.6207\n",
      "Epoch 27: val_loss did not improve from 1.12018\n",
      "448/448 [==============================] - 64s 142ms/step - loss: 1.0136 - accuracy: 0.6207 - val_loss: 1.1521 - val_accuracy: 0.5913\n",
      "Epoch 28/100\n",
      "448/448 [==============================] - ETA: 0s - loss: 1.0042 - accuracy: 0.6250\n",
      "Epoch 28: val_loss did not improve from 1.12018\n",
      "448/448 [==============================] - 64s 143ms/step - loss: 1.0042 - accuracy: 0.6250 - val_loss: 1.1850 - val_accuracy: 0.5514\n",
      "Epoch 29/100\n",
      "448/448 [==============================] - ETA: 0s - loss: 0.9861 - accuracy: 0.6285\n",
      "Epoch 29: val_loss did not improve from 1.12018\n",
      "448/448 [==============================] - 75s 168ms/step - loss: 0.9861 - accuracy: 0.6285 - val_loss: 1.1481 - val_accuracy: 0.5609\n",
      "Epoch 30/100\n",
      "448/448 [==============================] - ETA: 0s - loss: 0.9879 - accuracy: 0.6293\n",
      "Epoch 30: val_loss did not improve from 1.12018\n",
      "448/448 [==============================] - 123s 275ms/step - loss: 0.9879 - accuracy: 0.6293 - val_loss: 1.3411 - val_accuracy: 0.4965\n",
      "Epoch 31/100\n",
      "448/448 [==============================] - ETA: 0s - loss: 0.9813 - accuracy: 0.6331\n",
      "Epoch 31: val_loss did not improve from 1.12018\n",
      "448/448 [==============================] - 59s 132ms/step - loss: 0.9813 - accuracy: 0.6331 - val_loss: 1.2519 - val_accuracy: 0.5553\n",
      "Epoch 32/100\n",
      "448/448 [==============================] - ETA: 0s - loss: 0.9713 - accuracy: 0.6337\n",
      "Epoch 32: val_loss did not improve from 1.12018\n"
     ]
    },
    {
     "name": "stdout",
     "output_type": "stream",
     "text": [
      "448/448 [==============================] - 112s 250ms/step - loss: 0.9713 - accuracy: 0.6337 - val_loss: 1.1974 - val_accuracy: 0.5542\n",
      "Epoch 33/100\n",
      "448/448 [==============================] - ETA: 0s - loss: 0.9679 - accuracy: 0.6353\n",
      "Epoch 33: val_loss did not improve from 1.12018\n",
      "448/448 [==============================] - 73s 164ms/step - loss: 0.9679 - accuracy: 0.6353 - val_loss: 1.2060 - val_accuracy: 0.5692\n",
      "Epoch 34/100\n",
      "448/448 [==============================] - ETA: 0s - loss: 0.9543 - accuracy: 0.6406\n",
      "Epoch 34: val_loss improved from 1.12018 to 1.09221, saving model to Emotion_weights.hdf5\n",
      "448/448 [==============================] - 110s 245ms/step - loss: 0.9543 - accuracy: 0.6406 - val_loss: 1.0922 - val_accuracy: 0.5954\n",
      "Epoch 35/100\n",
      "448/448 [==============================] - ETA: 0s - loss: 0.9458 - accuracy: 0.6438\n",
      "Epoch 35: val_loss did not improve from 1.09221\n",
      "448/448 [==============================] - 63s 140ms/step - loss: 0.9458 - accuracy: 0.6438 - val_loss: 1.2514 - val_accuracy: 0.5408\n",
      "Epoch 36/100\n",
      "448/448 [==============================] - ETA: 0s - loss: 0.9405 - accuracy: 0.6470\n",
      "Epoch 36: val_loss did not improve from 1.09221\n",
      "448/448 [==============================] - 112s 250ms/step - loss: 0.9405 - accuracy: 0.6470 - val_loss: 1.1836 - val_accuracy: 0.5497\n",
      "Epoch 37/100\n",
      "448/448 [==============================] - ETA: 0s - loss: 0.9337 - accuracy: 0.6493\n",
      "Epoch 37: val_loss did not improve from 1.09221\n",
      "448/448 [==============================] - 113s 252ms/step - loss: 0.9337 - accuracy: 0.6493 - val_loss: 1.1928 - val_accuracy: 0.5754\n",
      "Epoch 38/100\n",
      "448/448 [==============================] - ETA: 0s - loss: 0.9241 - accuracy: 0.6551\n",
      "Epoch 38: val_loss did not improve from 1.09221\n",
      "448/448 [==============================] - 112s 250ms/step - loss: 0.9241 - accuracy: 0.6551 - val_loss: 1.2069 - val_accuracy: 0.5514\n",
      "Epoch 39/100\n",
      "448/448 [==============================] - ETA: 0s - loss: 0.9168 - accuracy: 0.6570\n",
      "Epoch 39: val_loss did not improve from 1.09221\n",
      "448/448 [==============================] - 113s 252ms/step - loss: 0.9168 - accuracy: 0.6570 - val_loss: 1.4075 - val_accuracy: 0.4923\n",
      "Epoch 40/100\n",
      "448/448 [==============================] - ETA: 0s - loss: 0.9124 - accuracy: 0.6604\n",
      "Epoch 40: val_loss improved from 1.09221 to 1.07833, saving model to Emotion_weights.hdf5\n",
      "448/448 [==============================] - 63s 141ms/step - loss: 0.9124 - accuracy: 0.6604 - val_loss: 1.0783 - val_accuracy: 0.6110\n",
      "Epoch 41/100\n",
      "448/448 [==============================] - ETA: 0s - loss: 0.9062 - accuracy: 0.6593\n",
      "Epoch 41: val_loss improved from 1.07833 to 1.07509, saving model to Emotion_weights.hdf5\n",
      "448/448 [==============================] - 83s 186ms/step - loss: 0.9062 - accuracy: 0.6593 - val_loss: 1.0751 - val_accuracy: 0.6138\n",
      "Epoch 42/100\n",
      "448/448 [==============================] - ETA: 0s - loss: 0.8970 - accuracy: 0.6642\n",
      "Epoch 42: val_loss did not improve from 1.07509\n",
      "448/448 [==============================] - 116s 258ms/step - loss: 0.8970 - accuracy: 0.6642 - val_loss: 1.1549 - val_accuracy: 0.5648\n",
      "Epoch 43/100\n",
      "448/448 [==============================] - ETA: 0s - loss: 0.8858 - accuracy: 0.6669\n",
      "Epoch 43: val_loss did not improve from 1.07509\n",
      "448/448 [==============================] - 112s 250ms/step - loss: 0.8858 - accuracy: 0.6669 - val_loss: 1.1149 - val_accuracy: 0.5996\n",
      "Epoch 44/100\n",
      "448/448 [==============================] - ETA: 0s - loss: 0.8813 - accuracy: 0.6694\n",
      "Epoch 44: val_loss did not improve from 1.07509\n",
      "448/448 [==============================] - 112s 251ms/step - loss: 0.8813 - accuracy: 0.6694 - val_loss: 1.1310 - val_accuracy: 0.5968\n",
      "Epoch 45/100\n",
      "448/448 [==============================] - ETA: 0s - loss: 0.8759 - accuracy: 0.6721\n",
      "Epoch 45: val_loss did not improve from 1.07509\n",
      "448/448 [==============================] - 112s 250ms/step - loss: 0.8759 - accuracy: 0.6721 - val_loss: 1.2774 - val_accuracy: 0.5626\n",
      "Epoch 46/100\n",
      "448/448 [==============================] - ETA: 0s - loss: 0.8713 - accuracy: 0.6733\n",
      "Epoch 46: val_loss did not improve from 1.07509\n",
      "448/448 [==============================] - 113s 252ms/step - loss: 0.8713 - accuracy: 0.6733 - val_loss: 1.0870 - val_accuracy: 0.6016\n",
      "Epoch 47/100\n",
      "448/448 [==============================] - ETA: 0s - loss: 0.8683 - accuracy: 0.6757\n",
      "Epoch 47: val_loss did not improve from 1.07509\n",
      "448/448 [==============================] - 60s 133ms/step - loss: 0.8683 - accuracy: 0.6757 - val_loss: 1.1180 - val_accuracy: 0.5946\n",
      "Epoch 48/100\n",
      "448/448 [==============================] - ETA: 0s - loss: 0.8559 - accuracy: 0.6814\n",
      "Epoch 48: val_loss did not improve from 1.07509\n",
      "448/448 [==============================] - 112s 251ms/step - loss: 0.8559 - accuracy: 0.6814 - val_loss: 1.1680 - val_accuracy: 0.5631\n",
      "Epoch 49/100\n",
      "448/448 [==============================] - ETA: 0s - loss: 0.8506 - accuracy: 0.6812\n",
      "Epoch 49: val_loss did not improve from 1.07509\n",
      "448/448 [==============================] - 113s 253ms/step - loss: 0.8506 - accuracy: 0.6812 - val_loss: 1.3125 - val_accuracy: 0.5274\n",
      "Epoch 50/100\n",
      "448/448 [==============================] - ETA: 0s - loss: 0.8470 - accuracy: 0.6835\n",
      "Epoch 50: val_loss did not improve from 1.07509\n",
      "448/448 [==============================] - 113s 253ms/step - loss: 0.8470 - accuracy: 0.6835 - val_loss: 1.2018 - val_accuracy: 0.5704\n",
      "Epoch 51/100\n",
      "448/448 [==============================] - ETA: 0s - loss: 0.8396 - accuracy: 0.6857\n",
      "Epoch 51: val_loss did not improve from 1.07509\n",
      "448/448 [==============================] - 67s 150ms/step - loss: 0.8396 - accuracy: 0.6857 - val_loss: 1.3892 - val_accuracy: 0.4792\n",
      "Epoch 52/100\n",
      "448/448 [==============================] - ETA: 0s - loss: 0.8385 - accuracy: 0.6863\n",
      "Epoch 52: val_loss improved from 1.07509 to 1.06456, saving model to Emotion_weights.hdf5\n",
      "448/448 [==============================] - 65s 145ms/step - loss: 0.8385 - accuracy: 0.6863 - val_loss: 1.0646 - val_accuracy: 0.6261\n",
      "Epoch 53/100\n",
      "448/448 [==============================] - ETA: 0s - loss: 0.8281 - accuracy: 0.6913\n",
      "Epoch 53: val_loss did not improve from 1.06456\n",
      "448/448 [==============================] - 61s 136ms/step - loss: 0.8281 - accuracy: 0.6913 - val_loss: 1.1469 - val_accuracy: 0.5818\n",
      "Epoch 54/100\n",
      "448/448 [==============================] - ETA: 0s - loss: 0.8194 - accuracy: 0.6936\n",
      "Epoch 54: val_loss did not improve from 1.06456\n",
      "448/448 [==============================] - 62s 138ms/step - loss: 0.8194 - accuracy: 0.6936 - val_loss: 1.2417 - val_accuracy: 0.5626\n",
      "Epoch 55/100\n",
      " 12/448 [..............................] - ETA: 1:48 - loss: 0.8154 - accuracy: 0.6797"
     ]
    },
    {
     "ename": "KeyboardInterrupt",
     "evalue": "",
     "output_type": "error",
     "traceback": [
      "\u001b[1;31m---------------------------------------------------------------------------\u001b[0m",
      "\u001b[1;31mKeyboardInterrupt\u001b[0m                         Traceback (most recent call last)",
      "Cell \u001b[1;32mIn[83], line 1\u001b[0m\n\u001b[1;32m----> 1\u001b[0m history \u001b[38;5;241m=\u001b[39m \u001b[43mmodel_emotion\u001b[49m\u001b[38;5;241;43m.\u001b[39;49m\u001b[43mfit\u001b[49m\u001b[43m(\u001b[49m\u001b[43mtrain_datagen\u001b[49m\u001b[38;5;241;43m.\u001b[39;49m\u001b[43mflow\u001b[49m\u001b[43m(\u001b[49m\u001b[43mX_train\u001b[49m\u001b[43m,\u001b[49m\u001b[43m \u001b[49m\u001b[43my_train\u001b[49m\u001b[43m,\u001b[49m\u001b[43m \u001b[49m\u001b[43mbatch_size\u001b[49m\u001b[38;5;241;43m=\u001b[39;49m\u001b[38;5;241;43m64\u001b[39;49m\u001b[43m)\u001b[49m\u001b[43m,\u001b[49m\n\u001b[0;32m      2\u001b[0m \u001b[43m\t\u001b[49m\u001b[43mvalidation_data\u001b[49m\u001b[38;5;241;43m=\u001b[39;49m\u001b[43m(\u001b[49m\u001b[43mX_val\u001b[49m\u001b[43m,\u001b[49m\u001b[43m \u001b[49m\u001b[43my_val\u001b[49m\u001b[43m)\u001b[49m\u001b[43m,\u001b[49m\u001b[43m \u001b[49m\u001b[43msteps_per_epoch\u001b[49m\u001b[38;5;241;43m=\u001b[39;49m\u001b[38;5;28;43mlen\u001b[39;49m\u001b[43m(\u001b[49m\u001b[43mX_train\u001b[49m\u001b[43m)\u001b[49m\u001b[43m \u001b[49m\u001b[38;5;241;43m/\u001b[39;49m\u001b[38;5;241;43m/\u001b[39;49m\u001b[43m \u001b[49m\u001b[38;5;241;43m64\u001b[39;49m\u001b[43m,\u001b[49m\n\u001b[0;32m      3\u001b[0m \u001b[43m\t\u001b[49m\u001b[43mepochs\u001b[49m\u001b[38;5;241;43m=\u001b[39;49m\u001b[43m \u001b[49m\u001b[38;5;241;43m100\u001b[39;49m\u001b[43m,\u001b[49m\u001b[43m \u001b[49m\u001b[43mcallbacks\u001b[49m\u001b[38;5;241;43m=\u001b[39;49m\u001b[43m[\u001b[49m\u001b[43mcheckpointer\u001b[49m\u001b[43m,\u001b[49m\u001b[43m \u001b[49m\u001b[43mearlystopping\u001b[49m\u001b[43m]\u001b[49m\u001b[43m)\u001b[49m\n",
      "File \u001b[1;32m~\\anaconda3\\envs\\tensorflow\\lib\\site-packages\\keras\\utils\\traceback_utils.py:65\u001b[0m, in \u001b[0;36mfilter_traceback.<locals>.error_handler\u001b[1;34m(*args, **kwargs)\u001b[0m\n\u001b[0;32m     63\u001b[0m filtered_tb \u001b[38;5;241m=\u001b[39m \u001b[38;5;28;01mNone\u001b[39;00m\n\u001b[0;32m     64\u001b[0m \u001b[38;5;28;01mtry\u001b[39;00m:\n\u001b[1;32m---> 65\u001b[0m     \u001b[38;5;28;01mreturn\u001b[39;00m fn(\u001b[38;5;241m*\u001b[39margs, \u001b[38;5;241m*\u001b[39m\u001b[38;5;241m*\u001b[39mkwargs)\n\u001b[0;32m     66\u001b[0m \u001b[38;5;28;01mexcept\u001b[39;00m \u001b[38;5;167;01mException\u001b[39;00m \u001b[38;5;28;01mas\u001b[39;00m e:\n\u001b[0;32m     67\u001b[0m     filtered_tb \u001b[38;5;241m=\u001b[39m _process_traceback_frames(e\u001b[38;5;241m.\u001b[39m__traceback__)\n",
      "File \u001b[1;32m~\\anaconda3\\envs\\tensorflow\\lib\\site-packages\\keras\\engine\\training.py:1564\u001b[0m, in \u001b[0;36mModel.fit\u001b[1;34m(self, x, y, batch_size, epochs, verbose, callbacks, validation_split, validation_data, shuffle, class_weight, sample_weight, initial_epoch, steps_per_epoch, validation_steps, validation_batch_size, validation_freq, max_queue_size, workers, use_multiprocessing)\u001b[0m\n\u001b[0;32m   1556\u001b[0m \u001b[38;5;28;01mwith\u001b[39;00m tf\u001b[38;5;241m.\u001b[39mprofiler\u001b[38;5;241m.\u001b[39mexperimental\u001b[38;5;241m.\u001b[39mTrace(\n\u001b[0;32m   1557\u001b[0m     \u001b[38;5;124m\"\u001b[39m\u001b[38;5;124mtrain\u001b[39m\u001b[38;5;124m\"\u001b[39m,\n\u001b[0;32m   1558\u001b[0m     epoch_num\u001b[38;5;241m=\u001b[39mepoch,\n\u001b[1;32m   (...)\u001b[0m\n\u001b[0;32m   1561\u001b[0m     _r\u001b[38;5;241m=\u001b[39m\u001b[38;5;241m1\u001b[39m,\n\u001b[0;32m   1562\u001b[0m ):\n\u001b[0;32m   1563\u001b[0m     callbacks\u001b[38;5;241m.\u001b[39mon_train_batch_begin(step)\n\u001b[1;32m-> 1564\u001b[0m     tmp_logs \u001b[38;5;241m=\u001b[39m \u001b[38;5;28;43mself\u001b[39;49m\u001b[38;5;241;43m.\u001b[39;49m\u001b[43mtrain_function\u001b[49m\u001b[43m(\u001b[49m\u001b[43miterator\u001b[49m\u001b[43m)\u001b[49m\n\u001b[0;32m   1565\u001b[0m     \u001b[38;5;28;01mif\u001b[39;00m data_handler\u001b[38;5;241m.\u001b[39mshould_sync:\n\u001b[0;32m   1566\u001b[0m         context\u001b[38;5;241m.\u001b[39masync_wait()\n",
      "File \u001b[1;32m~\\anaconda3\\envs\\tensorflow\\lib\\site-packages\\tensorflow\\python\\util\\traceback_utils.py:150\u001b[0m, in \u001b[0;36mfilter_traceback.<locals>.error_handler\u001b[1;34m(*args, **kwargs)\u001b[0m\n\u001b[0;32m    148\u001b[0m filtered_tb \u001b[38;5;241m=\u001b[39m \u001b[38;5;28;01mNone\u001b[39;00m\n\u001b[0;32m    149\u001b[0m \u001b[38;5;28;01mtry\u001b[39;00m:\n\u001b[1;32m--> 150\u001b[0m   \u001b[38;5;28;01mreturn\u001b[39;00m fn(\u001b[38;5;241m*\u001b[39margs, \u001b[38;5;241m*\u001b[39m\u001b[38;5;241m*\u001b[39mkwargs)\n\u001b[0;32m    151\u001b[0m \u001b[38;5;28;01mexcept\u001b[39;00m \u001b[38;5;167;01mException\u001b[39;00m \u001b[38;5;28;01mas\u001b[39;00m e:\n\u001b[0;32m    152\u001b[0m   filtered_tb \u001b[38;5;241m=\u001b[39m _process_traceback_frames(e\u001b[38;5;241m.\u001b[39m__traceback__)\n",
      "File \u001b[1;32m~\\anaconda3\\envs\\tensorflow\\lib\\site-packages\\tensorflow\\python\\eager\\def_function.py:915\u001b[0m, in \u001b[0;36mFunction.__call__\u001b[1;34m(self, *args, **kwds)\u001b[0m\n\u001b[0;32m    912\u001b[0m compiler \u001b[38;5;241m=\u001b[39m \u001b[38;5;124m\"\u001b[39m\u001b[38;5;124mxla\u001b[39m\u001b[38;5;124m\"\u001b[39m \u001b[38;5;28;01mif\u001b[39;00m \u001b[38;5;28mself\u001b[39m\u001b[38;5;241m.\u001b[39m_jit_compile \u001b[38;5;28;01melse\u001b[39;00m \u001b[38;5;124m\"\u001b[39m\u001b[38;5;124mnonXla\u001b[39m\u001b[38;5;124m\"\u001b[39m\n\u001b[0;32m    914\u001b[0m \u001b[38;5;28;01mwith\u001b[39;00m OptionalXlaContext(\u001b[38;5;28mself\u001b[39m\u001b[38;5;241m.\u001b[39m_jit_compile):\n\u001b[1;32m--> 915\u001b[0m   result \u001b[38;5;241m=\u001b[39m \u001b[38;5;28mself\u001b[39m\u001b[38;5;241m.\u001b[39m_call(\u001b[38;5;241m*\u001b[39margs, \u001b[38;5;241m*\u001b[39m\u001b[38;5;241m*\u001b[39mkwds)\n\u001b[0;32m    917\u001b[0m new_tracing_count \u001b[38;5;241m=\u001b[39m \u001b[38;5;28mself\u001b[39m\u001b[38;5;241m.\u001b[39mexperimental_get_tracing_count()\n\u001b[0;32m    918\u001b[0m without_tracing \u001b[38;5;241m=\u001b[39m (tracing_count \u001b[38;5;241m==\u001b[39m new_tracing_count)\n",
      "File \u001b[1;32m~\\anaconda3\\envs\\tensorflow\\lib\\site-packages\\tensorflow\\python\\eager\\def_function.py:947\u001b[0m, in \u001b[0;36mFunction._call\u001b[1;34m(self, *args, **kwds)\u001b[0m\n\u001b[0;32m    944\u001b[0m   \u001b[38;5;28mself\u001b[39m\u001b[38;5;241m.\u001b[39m_lock\u001b[38;5;241m.\u001b[39mrelease()\n\u001b[0;32m    945\u001b[0m   \u001b[38;5;66;03m# In this case we have created variables on the first call, so we run the\u001b[39;00m\n\u001b[0;32m    946\u001b[0m   \u001b[38;5;66;03m# defunned version which is guaranteed to never create variables.\u001b[39;00m\n\u001b[1;32m--> 947\u001b[0m   \u001b[38;5;28;01mreturn\u001b[39;00m \u001b[38;5;28mself\u001b[39m\u001b[38;5;241m.\u001b[39m_stateless_fn(\u001b[38;5;241m*\u001b[39margs, \u001b[38;5;241m*\u001b[39m\u001b[38;5;241m*\u001b[39mkwds)  \u001b[38;5;66;03m# pylint: disable=not-callable\u001b[39;00m\n\u001b[0;32m    948\u001b[0m \u001b[38;5;28;01melif\u001b[39;00m \u001b[38;5;28mself\u001b[39m\u001b[38;5;241m.\u001b[39m_stateful_fn \u001b[38;5;129;01mis\u001b[39;00m \u001b[38;5;129;01mnot\u001b[39;00m \u001b[38;5;28;01mNone\u001b[39;00m:\n\u001b[0;32m    949\u001b[0m   \u001b[38;5;66;03m# Release the lock early so that multiple threads can perform the call\u001b[39;00m\n\u001b[0;32m    950\u001b[0m   \u001b[38;5;66;03m# in parallel.\u001b[39;00m\n\u001b[0;32m    951\u001b[0m   \u001b[38;5;28mself\u001b[39m\u001b[38;5;241m.\u001b[39m_lock\u001b[38;5;241m.\u001b[39mrelease()\n",
      "File \u001b[1;32m~\\anaconda3\\envs\\tensorflow\\lib\\site-packages\\tensorflow\\python\\eager\\function.py:2496\u001b[0m, in \u001b[0;36mFunction.__call__\u001b[1;34m(self, *args, **kwargs)\u001b[0m\n\u001b[0;32m   2493\u001b[0m \u001b[38;5;28;01mwith\u001b[39;00m \u001b[38;5;28mself\u001b[39m\u001b[38;5;241m.\u001b[39m_lock:\n\u001b[0;32m   2494\u001b[0m   (graph_function,\n\u001b[0;32m   2495\u001b[0m    filtered_flat_args) \u001b[38;5;241m=\u001b[39m \u001b[38;5;28mself\u001b[39m\u001b[38;5;241m.\u001b[39m_maybe_define_function(args, kwargs)\n\u001b[1;32m-> 2496\u001b[0m \u001b[38;5;28;01mreturn\u001b[39;00m \u001b[43mgraph_function\u001b[49m\u001b[38;5;241;43m.\u001b[39;49m\u001b[43m_call_flat\u001b[49m\u001b[43m(\u001b[49m\n\u001b[0;32m   2497\u001b[0m \u001b[43m    \u001b[49m\u001b[43mfiltered_flat_args\u001b[49m\u001b[43m,\u001b[49m\u001b[43m \u001b[49m\u001b[43mcaptured_inputs\u001b[49m\u001b[38;5;241;43m=\u001b[39;49m\u001b[43mgraph_function\u001b[49m\u001b[38;5;241;43m.\u001b[39;49m\u001b[43mcaptured_inputs\u001b[49m\u001b[43m)\u001b[49m\n",
      "File \u001b[1;32m~\\anaconda3\\envs\\tensorflow\\lib\\site-packages\\tensorflow\\python\\eager\\function.py:1862\u001b[0m, in \u001b[0;36mConcreteFunction._call_flat\u001b[1;34m(self, args, captured_inputs, cancellation_manager)\u001b[0m\n\u001b[0;32m   1858\u001b[0m possible_gradient_type \u001b[38;5;241m=\u001b[39m gradients_util\u001b[38;5;241m.\u001b[39mPossibleTapeGradientTypes(args)\n\u001b[0;32m   1859\u001b[0m \u001b[38;5;28;01mif\u001b[39;00m (possible_gradient_type \u001b[38;5;241m==\u001b[39m gradients_util\u001b[38;5;241m.\u001b[39mPOSSIBLE_GRADIENT_TYPES_NONE\n\u001b[0;32m   1860\u001b[0m     \u001b[38;5;129;01mand\u001b[39;00m executing_eagerly):\n\u001b[0;32m   1861\u001b[0m   \u001b[38;5;66;03m# No tape is watching; skip to running the function.\u001b[39;00m\n\u001b[1;32m-> 1862\u001b[0m   \u001b[38;5;28;01mreturn\u001b[39;00m \u001b[38;5;28mself\u001b[39m\u001b[38;5;241m.\u001b[39m_build_call_outputs(\u001b[38;5;28;43mself\u001b[39;49m\u001b[38;5;241;43m.\u001b[39;49m\u001b[43m_inference_function\u001b[49m\u001b[38;5;241;43m.\u001b[39;49m\u001b[43mcall\u001b[49m\u001b[43m(\u001b[49m\n\u001b[0;32m   1863\u001b[0m \u001b[43m      \u001b[49m\u001b[43mctx\u001b[49m\u001b[43m,\u001b[49m\u001b[43m \u001b[49m\u001b[43margs\u001b[49m\u001b[43m,\u001b[49m\u001b[43m \u001b[49m\u001b[43mcancellation_manager\u001b[49m\u001b[38;5;241;43m=\u001b[39;49m\u001b[43mcancellation_manager\u001b[49m\u001b[43m)\u001b[49m)\n\u001b[0;32m   1864\u001b[0m forward_backward \u001b[38;5;241m=\u001b[39m \u001b[38;5;28mself\u001b[39m\u001b[38;5;241m.\u001b[39m_select_forward_and_backward_functions(\n\u001b[0;32m   1865\u001b[0m     args,\n\u001b[0;32m   1866\u001b[0m     possible_gradient_type,\n\u001b[0;32m   1867\u001b[0m     executing_eagerly)\n\u001b[0;32m   1868\u001b[0m forward_function, args_with_tangents \u001b[38;5;241m=\u001b[39m forward_backward\u001b[38;5;241m.\u001b[39mforward()\n",
      "File \u001b[1;32m~\\anaconda3\\envs\\tensorflow\\lib\\site-packages\\tensorflow\\python\\eager\\function.py:499\u001b[0m, in \u001b[0;36m_EagerDefinedFunction.call\u001b[1;34m(self, ctx, args, cancellation_manager)\u001b[0m\n\u001b[0;32m    497\u001b[0m \u001b[38;5;28;01mwith\u001b[39;00m _InterpolateFunctionError(\u001b[38;5;28mself\u001b[39m):\n\u001b[0;32m    498\u001b[0m   \u001b[38;5;28;01mif\u001b[39;00m cancellation_manager \u001b[38;5;129;01mis\u001b[39;00m \u001b[38;5;28;01mNone\u001b[39;00m:\n\u001b[1;32m--> 499\u001b[0m     outputs \u001b[38;5;241m=\u001b[39m \u001b[43mexecute\u001b[49m\u001b[38;5;241;43m.\u001b[39;49m\u001b[43mexecute\u001b[49m\u001b[43m(\u001b[49m\n\u001b[0;32m    500\u001b[0m \u001b[43m        \u001b[49m\u001b[38;5;28;43mstr\u001b[39;49m\u001b[43m(\u001b[49m\u001b[38;5;28;43mself\u001b[39;49m\u001b[38;5;241;43m.\u001b[39;49m\u001b[43msignature\u001b[49m\u001b[38;5;241;43m.\u001b[39;49m\u001b[43mname\u001b[49m\u001b[43m)\u001b[49m\u001b[43m,\u001b[49m\n\u001b[0;32m    501\u001b[0m \u001b[43m        \u001b[49m\u001b[43mnum_outputs\u001b[49m\u001b[38;5;241;43m=\u001b[39;49m\u001b[38;5;28;43mself\u001b[39;49m\u001b[38;5;241;43m.\u001b[39;49m\u001b[43m_num_outputs\u001b[49m\u001b[43m,\u001b[49m\n\u001b[0;32m    502\u001b[0m \u001b[43m        \u001b[49m\u001b[43minputs\u001b[49m\u001b[38;5;241;43m=\u001b[39;49m\u001b[43margs\u001b[49m\u001b[43m,\u001b[49m\n\u001b[0;32m    503\u001b[0m \u001b[43m        \u001b[49m\u001b[43mattrs\u001b[49m\u001b[38;5;241;43m=\u001b[39;49m\u001b[43mattrs\u001b[49m\u001b[43m,\u001b[49m\n\u001b[0;32m    504\u001b[0m \u001b[43m        \u001b[49m\u001b[43mctx\u001b[49m\u001b[38;5;241;43m=\u001b[39;49m\u001b[43mctx\u001b[49m\u001b[43m)\u001b[49m\n\u001b[0;32m    505\u001b[0m   \u001b[38;5;28;01melse\u001b[39;00m:\n\u001b[0;32m    506\u001b[0m     outputs \u001b[38;5;241m=\u001b[39m execute\u001b[38;5;241m.\u001b[39mexecute_with_cancellation(\n\u001b[0;32m    507\u001b[0m         \u001b[38;5;28mstr\u001b[39m(\u001b[38;5;28mself\u001b[39m\u001b[38;5;241m.\u001b[39msignature\u001b[38;5;241m.\u001b[39mname),\n\u001b[0;32m    508\u001b[0m         num_outputs\u001b[38;5;241m=\u001b[39m\u001b[38;5;28mself\u001b[39m\u001b[38;5;241m.\u001b[39m_num_outputs,\n\u001b[1;32m   (...)\u001b[0m\n\u001b[0;32m    511\u001b[0m         ctx\u001b[38;5;241m=\u001b[39mctx,\n\u001b[0;32m    512\u001b[0m         cancellation_manager\u001b[38;5;241m=\u001b[39mcancellation_manager)\n",
      "File \u001b[1;32m~\\anaconda3\\envs\\tensorflow\\lib\\site-packages\\tensorflow\\python\\eager\\execute.py:54\u001b[0m, in \u001b[0;36mquick_execute\u001b[1;34m(op_name, num_outputs, inputs, attrs, ctx, name)\u001b[0m\n\u001b[0;32m     52\u001b[0m \u001b[38;5;28;01mtry\u001b[39;00m:\n\u001b[0;32m     53\u001b[0m   ctx\u001b[38;5;241m.\u001b[39mensure_initialized()\n\u001b[1;32m---> 54\u001b[0m   tensors \u001b[38;5;241m=\u001b[39m \u001b[43mpywrap_tfe\u001b[49m\u001b[38;5;241;43m.\u001b[39;49m\u001b[43mTFE_Py_Execute\u001b[49m\u001b[43m(\u001b[49m\u001b[43mctx\u001b[49m\u001b[38;5;241;43m.\u001b[39;49m\u001b[43m_handle\u001b[49m\u001b[43m,\u001b[49m\u001b[43m \u001b[49m\u001b[43mdevice_name\u001b[49m\u001b[43m,\u001b[49m\u001b[43m \u001b[49m\u001b[43mop_name\u001b[49m\u001b[43m,\u001b[49m\n\u001b[0;32m     55\u001b[0m \u001b[43m                                      \u001b[49m\u001b[43minputs\u001b[49m\u001b[43m,\u001b[49m\u001b[43m \u001b[49m\u001b[43mattrs\u001b[49m\u001b[43m,\u001b[49m\u001b[43m \u001b[49m\u001b[43mnum_outputs\u001b[49m\u001b[43m)\u001b[49m\n\u001b[0;32m     56\u001b[0m \u001b[38;5;28;01mexcept\u001b[39;00m core\u001b[38;5;241m.\u001b[39m_NotOkStatusException \u001b[38;5;28;01mas\u001b[39;00m e:\n\u001b[0;32m     57\u001b[0m   \u001b[38;5;28;01mif\u001b[39;00m name \u001b[38;5;129;01mis\u001b[39;00m \u001b[38;5;129;01mnot\u001b[39;00m \u001b[38;5;28;01mNone\u001b[39;00m:\n",
      "\u001b[1;31mKeyboardInterrupt\u001b[0m: "
     ]
    }
   ],
   "source": [
    "history = model_emotion.fit(train_datagen.flow(X_train, y_train, batch_size=64),\n",
    "\tvalidation_data=(X_val, y_val), steps_per_epoch=len(X_train) // 64,\n",
    "\tepochs= 100, callbacks=[checkpointer, earlystopping])\n"
   ]
  },
  {
   "cell_type": "code",
   "execution_count": 84,
   "id": "bab4bb90",
   "metadata": {},
   "outputs": [],
   "source": [
    "# saving the model architecture to json file\n",
    "\n",
    "model_json = model_emotion.to_json()\n",
    "with open(\"FacialExpression-model.json\",\"w\") as json_file:\n",
    "  json_file.write(model_json)"
   ]
  },
  {
   "cell_type": "code",
   "execution_count": 85,
   "id": "2df6fe03",
   "metadata": {},
   "outputs": [
    {
     "name": "stdout",
     "output_type": "stream",
     "text": [
      "113/113 [==============================] - 2s 13ms/step - loss: 1.1329 - accuracy: 0.6074\n",
      "Test Accuracy: 0.6074115633964539\n"
     ]
    }
   ],
   "source": [
    "score = model_emotion.evaluate(X_Test, y_test)\n",
    "print('Test Accuracy: {}'.format(score[1]))"
   ]
  },
  {
   "cell_type": "code",
   "execution_count": 86,
   "id": "2dca204d",
   "metadata": {},
   "outputs": [
    {
     "name": "stdout",
     "output_type": "stream",
     "text": [
      "113/113 [==============================] - 2s 14ms/step\n"
     ]
    }
   ],
   "source": [
    "predicted_classes = np.argmax(model_emotion.predict(X_Test), axis=-1)\n",
    "y_true = np.argmax(y_test, axis=-1)"
   ]
  },
  {
   "cell_type": "code",
   "execution_count": 87,
   "id": "fdca8b1d",
   "metadata": {},
   "outputs": [
    {
     "data": {
      "text/plain": [
       "<Axes: >"
      ]
     },
     "execution_count": 87,
     "metadata": {},
     "output_type": "execute_result"
    },
    {
     "data": {
      "image/png": "[encoded data removed]",
      "text/plain": [
       "<Figure size 1000x1000 with 1 Axes>"
      ]
     },
     "metadata": {},
     "output_type": "display_data"
    }
   ],
   "source": [
    "cm = confusion_matrix(y_true, predicted_classes)\n",
    "plt.figure(figsize = (10, 10))\n",
    "sns.heatmap(cm, annot = True, cbar = False)"
   ]
  },
  {
   "cell_type": "code",
   "execution_count": 88,
   "id": "dc6f66bf",
   "metadata": {},
   "outputs": [
    {
     "name": "stdout",
     "output_type": "stream",
     "text": [
      "              precision    recall  f1-score   support\n",
      "\n",
      "           0       0.55      0.44      0.49       467\n",
      "           1       0.49      0.43      0.46        56\n",
      "           2       0.44      0.44      0.44       496\n",
      "           3       0.76      0.87      0.82       895\n",
      "           4       0.57      0.38      0.46       653\n",
      "           5       0.74      0.75      0.75       415\n",
      "           6       0.49      0.64      0.56       607\n",
      "\n",
      "    accuracy                           0.61      3589\n",
      "   macro avg       0.58      0.57      0.57      3589\n",
      "weighted avg       0.60      0.61      0.60      3589\n",
      "\n"
     ]
    }
   ],
   "source": [
    "print(classification_report(y_true, predicted_classes))"
   ]
  },
  {
   "cell_type": "code",
   "execution_count": 89,
   "id": "7b344f98",
   "metadata": {},
   "outputs": [],
   "source": [
    "from sklearn.utils import resample\n",
    "\n",
    "# Calculate the average class count\n",
    "average_class_count = df['emotion'].value_counts().mean()\n",
    "\n",
    "# Separate data for each class\n",
    "class_data = [df[df['emotion'] == i] for i in range(7)]\n",
    "\n",
    "# Oversample to balance classes based on average class count\n",
    "oversampled_data = [resample(class_df, replace=True, n_samples=int(average_class_count), random_state=42) for class_df in class_data]\n",
    "balanced_data = pd.concat(oversampled_data)"
   ]
  },
  {
   "cell_type": "code",
   "execution_count": 90,
   "id": "977306b0",
   "metadata": {},
   "outputs": [
    {
     "data": {
      "text/html": [
       "<div>\n",
       "<style scoped>\n",
       "    .dataframe tbody tr th:only-of-type {\n",
       "        vertical-align: middle;\n",
       "    }\n",
       "\n",
       "    .dataframe tbody tr th {\n",
       "        vertical-align: top;\n",
       "    }\n",
       "\n",
       "    .dataframe thead th {\n",
       "        text-align: right;\n",
       "    }\n",
       "</style>\n",
       "<table border=\"1\" class=\"dataframe\">\n",
       "  <thead>\n",
       "    <tr style=\"text-align: right;\">\n",
       "      <th></th>\n",
       "      <th>emotion</th>\n",
       "      <th>pixels</th>\n",
       "      <th>Usage</th>\n",
       "    </tr>\n",
       "  </thead>\n",
       "  <tbody>\n",
       "    <tr>\n",
       "      <th>5947</th>\n",
       "      <td>0</td>\n",
       "      <td>[[[2.0], [5.0], [31.0], [37.0], [18.0], [42.0]...</td>\n",
       "      <td>Training</td>\n",
       "    </tr>\n",
       "    <tr>\n",
       "      <th>27250</th>\n",
       "      <td>0</td>\n",
       "      <td>[[[76.0], [80.0], [82.0], [104.0], [122.0], [1...</td>\n",
       "      <td>Training</td>\n",
       "    </tr>\n",
       "    <tr>\n",
       "      <th>22203</th>\n",
       "      <td>0</td>\n",
       "      <td>[[[114.0], [113.0], [111.0], [113.0], [127.0],...</td>\n",
       "      <td>Training</td>\n",
       "    </tr>\n",
       "    <tr>\n",
       "      <th>3227</th>\n",
       "      <td>0</td>\n",
       "      <td>[[[131.0], [137.0], [136.0], [134.0], [141.0],...</td>\n",
       "      <td>Training</td>\n",
       "    </tr>\n",
       "    <tr>\n",
       "      <th>31947</th>\n",
       "      <td>0</td>\n",
       "      <td>[[[255.0], [252.0], [255.0], [190.0], [73.0], ...</td>\n",
       "      <td>PublicTest</td>\n",
       "    </tr>\n",
       "  </tbody>\n",
       "</table>\n",
       "</div>"
      ],
      "text/plain": [
       "       emotion                                             pixels       Usage\n",
       "5947         0  [[[2.0], [5.0], [31.0], [37.0], [18.0], [42.0]...    Training\n",
       "27250        0  [[[76.0], [80.0], [82.0], [104.0], [122.0], [1...    Training\n",
       "22203        0  [[[114.0], [113.0], [111.0], [113.0], [127.0],...    Training\n",
       "3227         0  [[[131.0], [137.0], [136.0], [134.0], [141.0],...    Training\n",
       "31947        0  [[[255.0], [252.0], [255.0], [190.0], [73.0], ...  PublicTest"
      ]
     },
     "execution_count": 90,
     "metadata": {},
     "output_type": "execute_result"
    }
   ],
   "source": [
    "balanced_data.head()"
   ]
  },
  {
   "cell_type": "code",
   "execution_count": 91,
   "id": "68e1a432",
   "metadata": {},
   "outputs": [
    {
     "data": {
      "text/plain": [
       "emotion\n",
       "0    5126\n",
       "1    5126\n",
       "2    5126\n",
       "3    5126\n",
       "4    5126\n",
       "5    5126\n",
       "6    5126\n",
       "Name: count, dtype: int64"
      ]
     },
     "execution_count": 91,
     "metadata": {},
     "output_type": "execute_result"
    }
   ],
   "source": [
    "balanced_data.emotion.value_counts()"
   ]
  },
  {
   "cell_type": "code",
   "execution_count": 92,
   "id": "078f71d2",
   "metadata": {},
   "outputs": [
    {
     "name": "stderr",
     "output_type": "stream",
     "text": [
      "C:\\Users\\Nikitha\\anaconda3\\envs\\tensorflow\\lib\\site-packages\\seaborn\\_oldcore.py:1498: FutureWarning: is_categorical_dtype is deprecated and will be removed in a future version. Use isinstance(dtype, CategoricalDtype) instead\n",
      "  if pd.api.types.is_categorical_dtype(vector):\n",
      "C:\\Users\\Nikitha\\anaconda3\\envs\\tensorflow\\lib\\site-packages\\seaborn\\_oldcore.py:1498: FutureWarning: is_categorical_dtype is deprecated and will be removed in a future version. Use isinstance(dtype, CategoricalDtype) instead\n",
      "  if pd.api.types.is_categorical_dtype(vector):\n",
      "C:\\Users\\Nikitha\\anaconda3\\envs\\tensorflow\\lib\\site-packages\\seaborn\\_oldcore.py:1498: FutureWarning: is_categorical_dtype is deprecated and will be removed in a future version. Use isinstance(dtype, CategoricalDtype) instead\n",
      "  if pd.api.types.is_categorical_dtype(vector):\n"
     ]
    },
    {
     "data": {
      "text/plain": [
       "<Axes: xlabel='emotion', ylabel='count'>"
      ]
     },
     "execution_count": 92,
     "metadata": {},
     "output_type": "execute_result"
    },
    {
     "data": {
      "image/png": "[encoded data removed]",
      "text/plain": [
       "<Figure size 1000x300 with 1 Axes>"
      ]
     },
     "metadata": {},
     "output_type": "display_data"
    }
   ],
   "source": [
    "plt.figure(figsize = (10,3))\n",
    "sns.barplot(x = balanced_data.emotion.value_counts().index, y = balanced_data.emotion.value_counts())"
   ]
  },
  {
   "cell_type": "code",
   "execution_count": 93,
   "id": "93127e2c",
   "metadata": {},
   "outputs": [],
   "source": [
    "X_train, X_temp, y_train, y_temp = train_test_split(balanced_data['pixels'], balanced_data['emotion'], test_size=0.2)\n",
    "X_val, X_test, y_val, y_test = train_test_split(X_temp, y_temp, test_size=0.5)"
   ]
  },
  {
   "cell_type": "code",
   "execution_count": 94,
   "id": "964d9589",
   "metadata": {},
   "outputs": [
    {
     "name": "stdout",
     "output_type": "stream",
     "text": [
      "Train set size: 28705\n",
      "Validation set size: 3588\n",
      "Test set size: 3589\n"
     ]
    }
   ],
   "source": [
    "print(\"Train set size:\", X_train.shape[0])\n",
    "print(\"Validation set size:\", X_val.shape[0])\n",
    "print(\"Test set size:\", X_test.shape[0])"
   ]
  },
  {
   "cell_type": "code",
   "execution_count": 95,
   "id": "6937ba4f",
   "metadata": {},
   "outputs": [],
   "source": [
    "y_train = to_categorical(y_train)\n",
    "\n",
    "y_test = to_categorical(y_test)\n",
    "\n",
    "y_val = to_categorical(y_val)"
   ]
  },
  {
   "cell_type": "code",
   "execution_count": 96,
   "id": "fc965c93",
   "metadata": {},
   "outputs": [],
   "source": [
    "X_train = np.stack(X_train, axis = 0)\n",
    "X_train = X_train.reshape(28705 , 48, 48, 1)\n",
    "\n",
    "X_test = np.stack(X_test, axis = 0)\n",
    "X_test = X_test.reshape(3589 , 48, 48, 1)\n",
    "\n",
    "X_val = np.stack(X_val, axis = 0)\n",
    "X_val = X_val.reshape(3588 , 48, 48, 1)"
   ]
  },
  {
   "cell_type": "code",
   "execution_count": 97,
   "id": "e420613a",
   "metadata": {},
   "outputs": [
    {
     "name": "stdout",
     "output_type": "stream",
     "text": [
      "(28705, 48, 48, 1) (28705, 7)\n",
      "(3589, 48, 48, 1) (3589, 7)\n",
      "(3588, 48, 48, 1) (3588, 7)\n"
     ]
    }
   ],
   "source": [
    "print(X_train.shape, y_train.shape)\n",
    "print(X_test.shape, y_test.shape)\n",
    "print(X_val.shape, y_val.shape)"
   ]
  },
  {
   "cell_type": "code",
   "execution_count": 98,
   "id": "aa24cac0",
   "metadata": {},
   "outputs": [],
   "source": [
    "X_train = X_train/255\n",
    "X_val   = X_val /255\n",
    "X_Test  = X_test/255"
   ]
  },
  {
   "cell_type": "code",
   "execution_count": 99,
   "id": "dbc133e8",
   "metadata": {},
   "outputs": [],
   "source": [
    "model_emotion.compile(optimizer = \"Adam\", loss = \"categorical_crossentropy\", metrics = [\"accuracy\"])"
   ]
  },
  {
   "cell_type": "code",
   "execution_count": 100,
   "id": "4b4dd91b",
   "metadata": {},
   "outputs": [],
   "source": [
    "earlystopping = EarlyStopping(monitor = 'val_loss', mode = 'min', verbose = 1, patience = 20)\n",
    "\n",
    "checkpointer = ModelCheckpoint(filepath = \"EmotionExpression_weights.hdf5\", verbose = 1, save_best_only=True)"
   ]
  },
  {
   "cell_type": "code",
   "execution_count": 101,
   "id": "9745e07c",
   "metadata": {},
   "outputs": [
    {
     "name": "stdout",
     "output_type": "stream",
     "text": [
      "Epoch 1/30\n",
      "448/448 [==============================] - ETA: 0s - loss: 0.6365 - accuracy: 0.7751\n",
      "Epoch 1: val_loss improved from inf to 0.87769, saving model to EmotionExpression_weights.hdf5\n",
      "448/448 [==============================] - 67s 134ms/step - loss: 0.6365 - accuracy: 0.7751 - val_loss: 0.8777 - val_accuracy: 0.6857\n",
      "Epoch 2/30\n",
      "448/448 [==============================] - ETA: 0s - loss: 0.3770 - accuracy: 0.8736\n",
      "Epoch 2: val_loss did not improve from 0.87769\n",
      "448/448 [==============================] - 109s 243ms/step - loss: 0.3770 - accuracy: 0.8736 - val_loss: 1.0264 - val_accuracy: 0.6606\n",
      "Epoch 3/30\n",
      "448/448 [==============================] - ETA: 0s - loss: 0.2386 - accuracy: 0.9225\n",
      "Epoch 3: val_loss did not improve from 0.87769\n",
      "448/448 [==============================] - 110s 246ms/step - loss: 0.2386 - accuracy: 0.9225 - val_loss: 0.9752 - val_accuracy: 0.7225\n",
      "Epoch 4/30\n",
      "448/448 [==============================] - ETA: 0s - loss: 0.1557 - accuracy: 0.9497\n",
      "Epoch 4: val_loss did not improve from 0.87769\n",
      "448/448 [==============================] - 60s 134ms/step - loss: 0.1557 - accuracy: 0.9497 - val_loss: 1.0687 - val_accuracy: 0.7152\n",
      "Epoch 5/30\n",
      "448/448 [==============================] - ETA: 0s - loss: 0.1162 - accuracy: 0.9633\n",
      "Epoch 5: val_loss did not improve from 0.87769\n",
      "448/448 [==============================] - 108s 242ms/step - loss: 0.1162 - accuracy: 0.9633 - val_loss: 0.9632 - val_accuracy: 0.7673\n",
      "Epoch 6/30\n",
      "448/448 [==============================] - ETA: 0s - loss: 0.1002 - accuracy: 0.9680\n",
      "Epoch 6: val_loss did not improve from 0.87769\n",
      "448/448 [==============================] - 68s 151ms/step - loss: 0.1002 - accuracy: 0.9680 - val_loss: 0.9525 - val_accuracy: 0.7916\n",
      "Epoch 7/30\n",
      "448/448 [==============================] - ETA: 0s - loss: 0.0790 - accuracy: 0.9751\n",
      "Epoch 7: val_loss did not improve from 0.87769\n",
      "448/448 [==============================] - 108s 242ms/step - loss: 0.0790 - accuracy: 0.9751 - val_loss: 1.1501 - val_accuracy: 0.7604\n",
      "Epoch 8/30\n",
      "448/448 [==============================] - ETA: 0s - loss: 0.0776 - accuracy: 0.9750\n",
      "Epoch 8: val_loss did not improve from 0.87769\n",
      "448/448 [==============================] - 60s 133ms/step - loss: 0.0776 - accuracy: 0.9750 - val_loss: 1.2523 - val_accuracy: 0.7529\n",
      "Epoch 9/30\n",
      "448/448 [==============================] - ETA: 0s - loss: 0.0653 - accuracy: 0.9798\n",
      "Epoch 9: val_loss did not improve from 0.87769\n",
      "448/448 [==============================] - 58s 130ms/step - loss: 0.0653 - accuracy: 0.9798 - val_loss: 1.2057 - val_accuracy: 0.7671\n",
      "Epoch 10/30\n",
      "448/448 [==============================] - ETA: 0s - loss: 0.0728 - accuracy: 0.9763\n",
      "Epoch 10: val_loss did not improve from 0.87769\n",
      "448/448 [==============================] - 58s 130ms/step - loss: 0.0728 - accuracy: 0.9763 - val_loss: 1.1559 - val_accuracy: 0.7768\n",
      "Epoch 11/30\n",
      "448/448 [==============================] - ETA: 0s - loss: 0.0608 - accuracy: 0.9806\n",
      "Epoch 11: val_loss did not improve from 0.87769\n",
      "448/448 [==============================] - 61s 135ms/step - loss: 0.0608 - accuracy: 0.9806 - val_loss: 1.2118 - val_accuracy: 0.7799\n",
      "Epoch 12/30\n",
      "448/448 [==============================] - ETA: 0s - loss: 0.0527 - accuracy: 0.9827\n",
      "Epoch 12: val_loss did not improve from 0.87769\n",
      "448/448 [==============================] - 109s 244ms/step - loss: 0.0527 - accuracy: 0.9827 - val_loss: 1.2759 - val_accuracy: 0.7637\n",
      "Epoch 13/30\n",
      "448/448 [==============================] - ETA: 0s - loss: 0.0501 - accuracy: 0.9850\n",
      "Epoch 13: val_loss did not improve from 0.87769\n",
      "448/448 [==============================] - 109s 243ms/step - loss: 0.0501 - accuracy: 0.9850 - val_loss: 1.3236 - val_accuracy: 0.7621\n",
      "Epoch 14/30\n",
      "448/448 [==============================] - ETA: 0s - loss: 0.0630 - accuracy: 0.9789\n",
      "Epoch 14: val_loss did not improve from 0.87769\n",
      "448/448 [==============================] - 109s 243ms/step - loss: 0.0630 - accuracy: 0.9789 - val_loss: 1.1086 - val_accuracy: 0.7785\n",
      "Epoch 15/30\n",
      "448/448 [==============================] - ETA: 0s - loss: 0.0578 - accuracy: 0.9813\n",
      "Epoch 15: val_loss did not improve from 0.87769\n",
      "448/448 [==============================] - 59s 132ms/step - loss: 0.0578 - accuracy: 0.9813 - val_loss: 1.2889 - val_accuracy: 0.7398\n",
      "Epoch 16/30\n",
      "448/448 [==============================] - ETA: 0s - loss: 0.0521 - accuracy: 0.9823\n",
      "Epoch 16: val_loss did not improve from 0.87769\n",
      "448/448 [==============================] - 60s 133ms/step - loss: 0.0521 - accuracy: 0.9823 - val_loss: 1.3152 - val_accuracy: 0.7503\n",
      "Epoch 17/30\n",
      "448/448 [==============================] - ETA: 0s - loss: 0.0343 - accuracy: 0.9901\n",
      "Epoch 17: val_loss did not improve from 0.87769\n",
      "448/448 [==============================] - 109s 243ms/step - loss: 0.0343 - accuracy: 0.9901 - val_loss: 1.2236 - val_accuracy: 0.7930\n",
      "Epoch 18/30\n",
      "448/448 [==============================] - ETA: 0s - loss: 0.0453 - accuracy: 0.9855\n",
      "Epoch 18: val_loss did not improve from 0.87769\n",
      "448/448 [==============================] - 61s 137ms/step - loss: 0.0453 - accuracy: 0.9855 - val_loss: 1.3382 - val_accuracy: 0.7517\n",
      "Epoch 19/30\n",
      "448/448 [==============================] - ETA: 0s - loss: 0.0474 - accuracy: 0.9848\n",
      "Epoch 19: val_loss did not improve from 0.87769\n",
      "448/448 [==============================] - 58s 129ms/step - loss: 0.0474 - accuracy: 0.9848 - val_loss: 1.5083 - val_accuracy: 0.7267\n",
      "Epoch 20/30\n",
      "448/448 [==============================] - ETA: 0s - loss: 0.0496 - accuracy: 0.9841\n",
      "Epoch 20: val_loss did not improve from 0.87769\n",
      "448/448 [==============================] - 59s 132ms/step - loss: 0.0496 - accuracy: 0.9841 - val_loss: 1.3537 - val_accuracy: 0.7434\n",
      "Epoch 21/30\n",
      "448/448 [==============================] - ETA: 0s - loss: 0.0499 - accuracy: 0.9834\n",
      "Epoch 21: val_loss did not improve from 0.87769\n",
      "448/448 [==============================] - 109s 243ms/step - loss: 0.0499 - accuracy: 0.9834 - val_loss: 1.3904 - val_accuracy: 0.7512\n",
      "Epoch 21: early stopping\n"
     ]
    }
   ],
   "source": [
    "history = model_emotion.fit(X_train, y_train, batch_size=64,\n",
    "                            validation_data=(X_val, y_val),\n",
    "                            steps_per_epoch=len(X_train) // 64,\n",
    "                            epochs=30,\n",
    "                            callbacks=[checkpointer, earlystopping])"
   ]
  },
  {
   "cell_type": "code",
   "execution_count": 102,
   "id": "89e2ba86",
   "metadata": {},
   "outputs": [],
   "source": [
    "model_json = model_emotion.to_json()\n",
    "with open(\"FacialExpression-balanced-model.json\",\"w\") as json_file:\n",
    "  json_file.write(model_json)"
   ]
  },
  {
   "cell_type": "code",
   "execution_count": 103,
   "id": "80fd8be2",
   "metadata": {},
   "outputs": [
    {
     "name": "stdout",
     "output_type": "stream",
     "text": [
      "113/113 [==============================] - 2s 15ms/step - loss: 0.9761 - accuracy: 0.8100\n",
      "Test Accuracy: 0.8099749088287354\n"
     ]
    }
   ],
   "source": [
    "score = model_emotion.evaluate(X_Test, y_test)\n",
    "print('Test Accuracy: {}'.format(score[1]))"
   ]
  },
  {
   "cell_type": "code",
   "execution_count": 104,
   "id": "a2a097a0",
   "metadata": {},
   "outputs": [
    {
     "name": "stdout",
     "output_type": "stream",
     "text": [
      "113/113 [==============================] - 2s 13ms/step\n"
     ]
    }
   ],
   "source": [
    "predicted_classes = np.argmax(model_emotion.predict(X_Test), axis=-1)\n",
    "y_true = np.argmax(y_test, axis=-1)"
   ]
  },
  {
   "cell_type": "code",
   "execution_count": 105,
   "id": "08563f70",
   "metadata": {},
   "outputs": [
    {
     "data": {
      "text/plain": [
       "<Axes: >"
      ]
     },
     "execution_count": 105,
     "metadata": {},
     "output_type": "execute_result"
    },
    {
     "data": {
      "image/png": "[encoded data removed]",
      "text/plain": [
       "<Figure size 1000x1000 with 1 Axes>"
      ]
     },
     "metadata": {},
     "output_type": "display_data"
    }
   ],
   "source": [
    "cm = confusion_matrix(y_true, predicted_classes)\n",
    "plt.figure(figsize = (10, 10))\n",
    "sns.heatmap(cm, annot = True, cbar = False)"
   ]
  },
  {
   "cell_type": "code",
   "execution_count": 106,
   "id": "fd24f8a1",
   "metadata": {},
   "outputs": [
    {
     "name": "stdout",
     "output_type": "stream",
     "text": [
      "              precision    recall  f1-score   support\n",
      "\n",
      "           0       0.85      0.72      0.78       510\n",
      "           1       0.98      0.96      0.97       527\n",
      "           2       0.77      0.74      0.75       535\n",
      "           3       0.89      0.85      0.87       472\n",
      "           4       0.59      0.83      0.69       513\n",
      "           5       0.86      0.91      0.89       527\n",
      "           6       0.84      0.65      0.73       505\n",
      "\n",
      "    accuracy                           0.81      3589\n",
      "   macro avg       0.83      0.81      0.81      3589\n",
      "weighted avg       0.82      0.81      0.81      3589\n",
      "\n"
     ]
    }
   ],
   "source": [
    "print(classification_report(y_true, predicted_classes))"
   ]
  },
  {
   "cell_type": "code",
   "execution_count": null,
   "id": "150ea09f",
   "metadata": {},
   "outputs": [],
   "source": []
  }
 ],
 "metadata": {
  "kernelspec": {
   "display_name": "Python 3 (ipykernel)",
   "language": "python",
   "name": "python3"
  },
  "language_info": {
   "codemirror_mode": {
    "name": "ipython",
    "version": 3
   },
   "file_extension": ".py",
   "mimetype": "text/x-python",
   "name": "python",
   "nbconvert_exporter": "python",
   "pygments_lexer": "ipython3",
   "version": "3.9.13"
  }
 },
 "nbformat": 4,
 "nbformat_minor": 5
}
